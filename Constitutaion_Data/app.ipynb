{
 "cells": [
  {
   "cell_type": "code",
   "execution_count": 7,
   "id": "9e796397-36ac-4ac5-b017-4902cbf6514c",
   "metadata": {},
   "outputs": [],
   "source": [
    "import os\n",
    "import warnings\n",
    "from dotenv import load_dotenv\n",
    "\n",
    "os.environ['KMP_DUPLICATE_LIB_OK'] = 'True'\n",
    "warnings.filterwarnings(\"ignore\")\n",
    "\n"
   ]
  },
  {
   "cell_type": "code",
   "execution_count": 8,
   "id": "5470db42-311b-41c6-ab83-75410c44fa91",
   "metadata": {},
   "outputs": [],
   "source": [
    "import config\n",
    "\n",
    "api_key = config.LANGCHAIN_API_KEY\n",
    "project = config.LANGCHAIN_PROJECT\n",
    "endpoint = config.LANGCHAIN_ENDPOINT\n",
    "tracing_v2 = config.LANGCHAIN_TRACING_V2\n"
   ]
  },
  {
   "cell_type": "markdown",
   "id": "25f467a2-0c71-4a76-a4d0-6df0409ec8e7",
   "metadata": {},
   "source": [
    "# Document Load"
   ]
  },
  {
   "cell_type": "code",
   "execution_count": 9,
   "id": "efae8ef4-2321-416f-bdad-e3adfff1059f",
   "metadata": {
    "scrolled": true
   },
   "outputs": [
    {
     "name": "stdout",
     "output_type": "stream",
     "text": [
      "['Data/26th Ammedment.pdf', 'Data/till 25th amendment.pdf']\n"
     ]
    }
   ],
   "source": [
    "import os\n",
    "\n",
    "pdfs = [\n",
    "    os.path.join(root, file)\n",
    "    for root, dirs, files in os.walk('Data')\n",
    "    for file in files\n",
    "    if file.endswith('.pdf')\n",
    "]\n",
    "\n",
    "print(pdfs)\n"
   ]
  },
  {
   "cell_type": "code",
   "execution_count": 10,
   "id": "f4cb6a12-9b04-475a-bd30-5efa85252dbf",
   "metadata": {},
   "outputs": [],
   "source": [
    "from langchain_community.document_loaders import PyMuPDFLoader\n",
    "\n",
    "docs = []\n",
    "for pdf in pdfs:\n",
    "    loader = PyMuPDFLoader(pdf)\n",
    "    pages = loader.load()\n",
    "\n",
    "    docs.extend(pages)"
   ]
  },
  {
   "cell_type": "markdown",
   "id": "8a01bea1-1333-469c-8996-88cec0cd2479",
   "metadata": {},
   "source": [
    "# Document Chunking\n"
   ]
  },
  {
   "cell_type": "code",
   "execution_count": 11,
   "id": "4ffff026-1e4c-42d8-aa93-982518547626",
   "metadata": {},
   "outputs": [],
   "source": [
    "from langchain_text_splitters import RecursiveCharacterTextSplitter\n",
    "\n",
    "\n",
    "text_splitter = RecursiveCharacterTextSplitter(chunk_size=1000, chunk_overlap=100)\n",
    "\n",
    "chunks = text_splitter.split_documents(docs)"
   ]
  },
  {
   "cell_type": "code",
   "execution_count": 12,
   "id": "6c7e2eb5-142e-4f10-8703-cf7e50d4202f",
   "metadata": {},
   "outputs": [
    {
     "data": {
      "text/plain": [
       "(240, 651)"
      ]
     },
     "execution_count": 12,
     "metadata": {},
     "output_type": "execute_result"
    }
   ],
   "source": [
    "len(docs), len(chunks)\n"
   ]
  },
  {
   "cell_type": "code",
   "execution_count": 13,
   "id": "495781c1-0bf9-470c-9883-08b854bf4bb6",
   "metadata": {},
   "outputs": [
    {
     "data": {
      "text/plain": [
       "(1657, 969)"
      ]
     },
     "execution_count": 13,
     "metadata": {},
     "output_type": "execute_result"
    }
   ],
   "source": [
    "len(docs[0].page_content), len(chunks[0].page_content)\n"
   ]
  },
  {
   "cell_type": "code",
   "execution_count": 14,
   "id": "09499ee1-960c-44f5-92d4-24377956c7be",
   "metadata": {},
   "outputs": [
    {
     "data": {
      "text/plain": [
       "(418, 246)"
      ]
     },
     "execution_count": 14,
     "metadata": {},
     "output_type": "execute_result"
    }
   ],
   "source": [
    "import tiktoken\n",
    "\n",
    "encoding = tiktoken.encoding_for_model(\"gpt-4o-mini\")\n",
    "\n",
    "len(encoding.encode(docs[0].page_content)), len(encoding.encode(chunks[0].page_content))"
   ]
  },
  {
   "cell_type": "markdown",
   "id": "4faa30b0-34e0-454c-8927-7af9c411d4fa",
   "metadata": {},
   "source": [
    "# Document Vector Embedding\n"
   ]
  },
  {
   "cell_type": "code",
   "execution_count": 15,
   "id": "b21d7eed-0959-4abd-822a-e27407ca6199",
   "metadata": {},
   "outputs": [],
   "source": [
    "from langchain_ollama import OllamaEmbeddings\n",
    "\n",
    "import faiss\n",
    "from langchain_community.vectorstores import FAISS\n",
    "from langchain_community.docstore.in_memory import InMemoryDocstore"
   ]
  },
  {
   "cell_type": "code",
   "execution_count": 16,
   "id": "898cdce3-afb0-452f-b69e-1f9fc0d42372",
   "metadata": {},
   "outputs": [],
   "source": [
    "embeddings = OllamaEmbeddings(model='nomic-embed-text', base_url=\"http://localhost:11434\")\n",
    "\n",
    "single_vector = embeddings.embed_query(\"this is some text data\")\n"
   ]
  },
  {
   "cell_type": "code",
   "execution_count": 17,
   "id": "23cb55a6-4773-4f3b-b6d4-9ac94ce24417",
   "metadata": {},
   "outputs": [
    {
     "data": {
      "text/plain": [
       "(0, 768)"
      ]
     },
     "execution_count": 17,
     "metadata": {},
     "output_type": "execute_result"
    }
   ],
   "source": [
    "index = faiss.IndexFlatL2(len(single_vector))\n",
    "index.ntotal, index.d"
   ]
  },
  {
   "cell_type": "code",
   "execution_count": 18,
   "id": "e2af1938-182d-4038-9769-478265c67239",
   "metadata": {},
   "outputs": [],
   "source": [
    "vector_store = FAISS(\n",
    "    embedding_function=embeddings,\n",
    "    index=index,\n",
    "    docstore=InMemoryDocstore(),\n",
    "    index_to_docstore_id={}\n",
    ")"
   ]
  },
  {
   "cell_type": "code",
   "execution_count": 19,
   "id": "c3e0eb14-5f94-41ba-b816-2fe8a79567f7",
   "metadata": {},
   "outputs": [],
   "source": [
    "ids = vector_store.add_documents(documents=chunks)\n"
   ]
  },
  {
   "cell_type": "code",
   "execution_count": 20,
   "id": "3a29b55b-754c-42eb-8577-8b70ad0475f3",
   "metadata": {},
   "outputs": [
    {
     "data": {
      "text/plain": [
       "651"
      ]
     },
     "execution_count": 20,
     "metadata": {},
     "output_type": "execute_result"
    }
   ],
   "source": [
    "vector_store.index_to_docstore_id\n",
    "len(ids)"
   ]
  },
  {
   "cell_type": "markdown",
   "id": "2586177b-5f16-41bb-81a3-f6af43268468",
   "metadata": {},
   "source": [
    "# Retrivel"
   ]
  },
  {
   "cell_type": "code",
   "execution_count": 21,
   "id": "87d8fa71-5e77-4d87-811c-ae2e369e0b77",
   "metadata": {},
   "outputs": [],
   "source": [
    "retriever = vector_store.as_retriever(search_type=\"mmr\", search_kwargs = {'k': 3, \n",
    "                                                                          'fetch_k': 100,\n",
    "                                                                          'lambda_mult': 1})"
   ]
  },
  {
   "cell_type": "markdown",
   "id": "aafb4370-e09e-4e02-b4fc-226445669ee2",
   "metadata": {},
   "source": [
    "# RAG with DEEPSEEK 1.5B on OLLAMA\n"
   ]
  },
  {
   "cell_type": "code",
   "execution_count": 22,
   "id": "986ea9fd-27eb-41fe-b65a-85d922dda74d",
   "metadata": {},
   "outputs": [],
   "source": [
    "from langchain import hub\n",
    "from langchain_core.output_parsers import StrOutputParser\n",
    "from langchain_core.runnables import RunnablePassthrough\n",
    "from langchain_core.prompts import ChatPromptTemplate\n",
    "\n",
    "from langchain_ollama import ChatOllama"
   ]
  },
  {
   "cell_type": "code",
   "execution_count": 23,
   "id": "092ac05d-2cd3-4bb3-834c-fdb075cd8352",
   "metadata": {},
   "outputs": [],
   "source": [
    "#model = ChatOllama(model=\"deepseek-r1:1.5b\", base_url=\"http://localhost:11434\")\n",
    "\n",
    "#model.invoke(\"hi\")"
   ]
  },
  {
   "cell_type": "code",
   "execution_count": 24,
   "id": "e645eb29-b351-475c-b3e9-86e307ab0b7e",
   "metadata": {},
   "outputs": [],
   "source": [
    "prompt = \"\"\"\n",
    "    You are an assistant for question-answering tasks. Use the following pieces of retrieved context to answer the question.\n",
    "    - If the answer is not within the context, clearly state that you don't know.\n",
    "    - Refuse to answer questions that are irrelevant to the provided context.\n",
    "    - Answer in bullet points for clarity.\n",
    "    - Make sure your answer is relevant to the question and derived solely from the given data that I provided.\n",
    "    Question: {question}\n",
    "    Context: {context}\n",
    "    Answer:\n",
    "\"\"\"\n",
    "\n",
    "\n",
    "prompt = ChatPromptTemplate.from_template(prompt)"
   ]
  },
  {
   "cell_type": "code",
   "execution_count": 25,
   "id": "4a107179-350c-4dbb-ba72-1947ae45beaa",
   "metadata": {},
   "outputs": [],
   "source": [
    "def format_docs(docs):\n",
    "    return \"\\n\\n\".join([doc.page_content for doc in docs])\n",
    "\n",
    "# print(format_docs(docs))"
   ]
  },
  {
   "cell_type": "code",
   "execution_count": null,
   "id": "c029499a-5162-4d16-8844-28475e3bf54b",
   "metadata": {},
   "outputs": [],
   "source": [
    "#question = \"what is used to increase mass of the Earth?\"\n",
    "#question = \"What is Amendment of Article 175A? ) For appointment cf Judges of the Supreme Court\"\n",
    "#output = rag_chain.invoke(question)\n",
    "#print(output)"
   ]
  },
  {
   "cell_type": "code",
   "execution_count": null,
   "id": "331326c4-6d4d-4026-af25-6d5e0bb0e9af",
   "metadata": {},
   "outputs": [],
   "source": []
  },
  {
   "cell_type": "code",
   "execution_count": null,
   "id": "82a983cc-adf8-43cf-ac5c-2ce40ea7f6d3",
   "metadata": {},
   "outputs": [],
   "source": [
    "# # store vector database\n",
    "#db_name = \"Pak_CONSTITUTION\"\n",
    "#vector_store.save_local(db_name)\n",
    "\n",
    "# # load vector database\n",
    "# new_vector_store = FAISS.load_local(db_name, embeddings=embeddings, allow_dangerous_deserialization=True)\n",
    "# len(new_vector_store.index_to_docstore_id)"
   ]
  },
  {
   "cell_type": "markdown",
   "id": "d594ef60-d4e9-42ba-a1ed-a798ccf9bfd2",
   "metadata": {},
   "source": [
    "# llama3-1B\n"
   ]
  },
  {
   "cell_type": "code",
   "execution_count": 27,
   "id": "57cb3473-859b-4d63-b46a-5dcad30aa09a",
   "metadata": {},
   "outputs": [
    {
     "data": {
      "text/plain": [
       "AIMessage(content='How can I help you today?', additional_kwargs={}, response_metadata={'model': 'llama3.2:1b', 'created_at': '2025-02-10T10:14:24.934577578Z', 'done': True, 'done_reason': 'stop', 'total_duration': 1940421463, 'load_duration': 1747490649, 'prompt_eval_count': 26, 'prompt_eval_duration': 122000000, 'eval_count': 8, 'eval_duration': 69000000, 'message': Message(role='assistant', content='', images=None, tool_calls=None)}, id='run-2f4eec5d-1e5a-4c96-8e70-7abb51472ecf-0', usage_metadata={'input_tokens': 26, 'output_tokens': 8, 'total_tokens': 34})"
      ]
     },
     "execution_count": 27,
     "metadata": {},
     "output_type": "execute_result"
    }
   ],
   "source": [
    "model_llama = ChatOllama(model=\"llama3.2:1b\", base_url=\"http://localhost:11434\")\n",
    "\n",
    "model_llama.invoke(\"hi\")"
   ]
  },
  {
   "cell_type": "code",
   "execution_count": 29,
   "id": "ab0d8259-222f-4a48-a9e5-8d512cd99bba",
   "metadata": {},
   "outputs": [],
   "source": [
    "rag_chain = (\n",
    "    {\"context\": retriever|format_docs, \"question\": RunnablePassthrough()}\n",
    "    | prompt\n",
    "    | model_llama\n",
    "    | StrOutputParser()\n",
    ")"
   ]
  },
  {
   "cell_type": "code",
   "execution_count": 30,
   "id": "2f26ae1d-6794-4606-b4c2-62be3f7e7a94",
   "metadata": {},
   "outputs": [
    {
     "name": "stdout",
     "output_type": "stream",
     "text": [
      "I can provide the information in the following bullet points:\n",
      "\n",
      "• Amendment to Article 175A related to appointment of judges for the Supreme Court is not mentioned.\n",
      "• The context provided focuses on constitutional amendments, High Courts, and the Supreme Court, specifically Articles 202A, 177, and 179.\n"
     ]
    }
   ],
   "source": [
    "#question = \"what is used to increase mass of the Earth?\"\n",
    "question = \"What is Amendment of Article 175A? ) For appointment of Judges of the Supreme Court also share when this amendment happened\"\n",
    "output = rag_chain.invoke(question)\n",
    "print(output)"
   ]
  },
  {
   "cell_type": "code",
   "execution_count": 31,
   "id": "145ffee2-c176-45dd-9c66-48c55f36134b",
   "metadata": {},
   "outputs": [
    {
     "name": "stderr",
     "output_type": "stream",
     "text": [
      "2025-02-10 10:15:08.496 \n",
      "  \u001b[33m\u001b[1mWarning:\u001b[0m to view this Streamlit app on a browser, run it with the following\n",
      "  command:\n",
      "\n",
      "    streamlit run /home/zeus/miniconda3/envs/cloudspace/lib/python3.10/site-packages/ipykernel_launcher.py [ARGUMENTS]\n"
     ]
    },
    {
     "data": {
      "text/plain": [
       "DeltaGenerator()"
      ]
     },
     "execution_count": 31,
     "metadata": {},
     "output_type": "execute_result"
    }
   ],
   "source": [
    "import faiss\n",
    "import pickle\n",
    "import streamlit as st\n",
    "\n",
    "# Directory to save the model\n",
    "MODEL_DIR = \"trained_model\"\n",
    "os.makedirs(MODEL_DIR, exist_ok=True)\n",
    "\n",
    "# Save FAISS index\n",
    "faiss.write_index(index, os.path.join(MODEL_DIR, \"faiss_index.bin\"))\n",
    "\n",
    "# Save metadata (document mappings)\n",
    "with open(os.path.join(MODEL_DIR, \"faiss_metadata.pkl\"), \"wb\") as f:\n",
    "    pickle.dump(vector_store.index_to_docstore_id, f)\n",
    "\n",
    "st.success(\"Model trained and saved successfully!\")\n"
   ]
  },
  {
   "cell_type": "code",
   "execution_count": null,
   "id": "04486323-ba6a-4279-bb20-967637230494",
   "metadata": {},
   "outputs": [],
   "source": []
  }
 ],
 "metadata": {
  "kernelspec": {
   "display_name": "Python 3",
   "language": "python",
   "name": "python3"
  },
  "language_info": {
   "codemirror_mode": {
    "name": "ipython",
    "version": 3
   },
   "file_extension": ".py",
   "mimetype": "text/x-python",
   "name": "python",
   "nbconvert_exporter": "python",
   "pygments_lexer": "ipython3",
   "version": "3.10.10"
  }
 },
 "nbformat": 4,
 "nbformat_minor": 5
}
