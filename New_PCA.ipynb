{
  "nbformat": 4,
  "nbformat_minor": 0,
  "metadata": {
    "colab": {
      "provenance": [],
      "toc_visible": true,
      "gpuType": "T4"
    },
    "kernelspec": {
      "name": "python3",
      "display_name": "Python 3"
    },
    "language_info": {
      "name": "python"
    },
    "accelerator": "GPU"
  },
  "cells": [
    {
      "cell_type": "markdown",
      "source": [
        "#Start\n"
      ],
      "metadata": {
        "id": "B0G07SEwkOFq"
      }
    },
    {
      "cell_type": "code",
      "execution_count": 1,
      "metadata": {
        "id": "yKRCzQruScPM"
      },
      "outputs": [],
      "source": [
        "# === STEP 1: Data Loading ===\n",
        "import pandas as pd\n",
        "import numpy as np\n",
        "from sklearn.preprocessing import StandardScaler\n",
        "from sklearn.decomposition import PCA\n",
        "import matplotlib.pyplot as plt\n",
        "\n",
        "# Load all datasets\n",
        "assessments = pd.read_csv('/content/drive/MyDrive/A_test/assessments.csv')\n",
        "courses = pd.read_csv('/content/drive/MyDrive/A_test/courses.csv')\n",
        "studentAssessment = pd.read_csv('/content/drive/MyDrive/A_test/studentAssessment.csv')\n",
        "studentInfo = pd.read_csv('/content/drive/MyDrive/A_test/studentInfo.csv')\n",
        "studentRegistration = pd.read_csv('/content/drive/MyDrive/A_test/studentRegistration.csv')\n",
        "vle = pd.read_csv('/content/drive/MyDrive/A_test/vle.csv')\n",
        "studentVle = pd.read_csv('/content/drive/MyDrive/A_test/studentVle.csv')\n",
        "\n",
        "# === STEP 2: Data Integration ===\n",
        "# Merge core student information\n",
        "df = pd.merge(studentInfo, studentRegistration,\n",
        "             on=['code_module','code_presentation','id_student'],\n",
        "             how='left')\n",
        "\n",
        "# Add course metadata\n",
        "df = pd.merge(df, courses,\n",
        "             on=['code_module','code_presentation'],\n",
        "             how='left')\n",
        "\n",
        "# Merge assessments data\n",
        "course_assessments = pd.merge(courses, assessments,\n",
        "                             on=['code_module','code_presentation'],\n",
        "                             how='left')\n",
        "\n",
        "df = pd.merge(df, course_assessments,\n",
        "             on=['code_module','code_presentation'],\n",
        "             suffixes=('', '_assessments'),\n",
        "             how='left')\n",
        "\n",
        "# Clean up merged columns\n",
        "df['module_presentation_length'] = df['module_presentation_length_assessments']\n",
        "df = df.drop(columns=['module_presentation_length_assessments'])\n",
        "\n",
        "# Merge student assessment scores\n",
        "df = pd.merge(df, studentAssessment,\n",
        "             on=['id_assessment','id_student'],\n",
        "             how='left')\n",
        "\n",
        "# Merge VLE interactions\n",
        "vle_interactions = pd.merge(vle, studentVle,\n",
        "                           on=['id_site','code_module','code_presentation'],\n",
        "                           how='inner')\n",
        "\n",
        "vle_agg = vle_interactions.groupby(['code_module','code_presentation','id_student'])['sum_click'].sum().reset_index()\n",
        "df = pd.merge(df, vle_agg,\n",
        "             on=['code_module','code_presentation','id_student'],\n",
        "             how='left')\n",
        "\n"
      ]
    },
    {
      "cell_type": "code",
      "source": [
        "# === STEP 3: Missing Value Handling ===\n",
        "# Assessment scores and clicks\n",
        "df['score'] = df['score'].fillna(0)  # 0 = no attempt\n",
        "df['sum_click'] = df['sum_click'].fillna(0)  # 0 = no interaction\n",
        "\n",
        "# Date features\n",
        "df['date'] = df.groupby(['code_module','code_presentation'])['date'].transform(lambda x: x.fillna(x.median()))\n",
        "df['date_submitted'] = df['date_submitted'].fillna(-1)  # Special value for missing submissions\n",
        "df['is_banked'] = df['is_banked'].fillna(0).astype(int)\n",
        "\n",
        "# Socioeconomic data\n",
        "df['imd_band'] = df['imd_band'].fillna(df['imd_band'].mode()[0])\n",
        "\n",
        "# Registration dates\n",
        "df['date_registration'] = df.groupby(['code_module','code_presentation'])['date_registration'] \\\n",
        "                           .transform(lambda x: x.fillna(x.median()))\n"
      ],
      "metadata": {
        "id": "o9tKYGyoS8fv"
      },
      "execution_count": 2,
      "outputs": []
    },
    {
      "cell_type": "code",
      "source": [
        "# === STEP 4: Feature Engineering ===\n",
        "# Dropout flag\n",
        "df['dropped_out'] = np.where(df['date_unregistration'].isna(), 0, 1)\n",
        "\n",
        "# Temporal features\n",
        "df['days_to_assessment'] = df['date'] - df['date_registration']\n",
        "df['submission_delay'] = np.where(\n",
        "    df['date_submitted'] == -1,\n",
        "    -1,  # Special value for missing submissions\n",
        "    df['date_submitted'] - df['date']\n",
        ")\n",
        "\n",
        "# Handle negative delays\n",
        "df['submission_delay'] = np.where(df['submission_delay'] < 0, 0, df['submission_delay'])\n",
        "\n",
        "# Frequency encoding for high-cardinality region\n",
        "region_freq = df['region'].value_counts(normalize=True)\n",
        "df['region_encoded'] = df['region'].map(region_freq)"
      ],
      "metadata": {
        "id": "1uGbpNmrTDzu"
      },
      "execution_count": 3,
      "outputs": []
    },
    {
      "cell_type": "code",
      "source": [
        "# === STEP 5: Feature Selection ===\n",
        "drop_cols = [\n",
        "    'code_module', 'code_presentation', 'id_student',\n",
        "    'id_assessment', 'date_unregistration', 'date',\n",
        "    'date_submitted', 'date_registration', 'region',\n",
        "    'assessment_type'\n",
        "]\n",
        "df_clean = df.drop(columns=drop_cols)"
      ],
      "metadata": {
        "id": "YITRBshZTV8E"
      },
      "execution_count": 4,
      "outputs": []
    },
    {
      "cell_type": "code",
      "source": [
        "# === STEP 6: Categorical Encoding ===\n",
        "cat_cols = ['gender', 'highest_education', 'imd_band',\n",
        "           'age_band', 'disability', 'final_result']\n",
        "df_encoded = pd.get_dummies(df_clean, columns=cat_cols, drop_first=True)\n"
      ],
      "metadata": {
        "id": "Pl3trjcsTZVY"
      },
      "execution_count": 5,
      "outputs": []
    },
    {
      "cell_type": "code",
      "source": [
        "\n",
        "# === STEP 7: Proper Scaling ===\n",
        "# Identify all numeric columns (including dummy variables)\n",
        "numeric_cols = df_encoded.select_dtypes(include=np.number).columns.tolist()\n",
        "\n",
        "# Scale ALL features\n",
        "scaler = StandardScaler()\n",
        "X_scaled = scaler.fit_transform(df_encoded[numeric_cols])\n"
      ],
      "metadata": {
        "id": "KvyJY64KTbtz"
      },
      "execution_count": 6,
      "outputs": []
    },
    {
      "cell_type": "code",
      "source": [
        "# === STEP 8: PCA Implementation ===\n",
        "# Fit PCA with variance analysis\n",
        "pca = PCA().fit(X_scaled)\n",
        "\n",
        "# Plot explained variance\n",
        "plt.figure(figsize=(10,6))\n",
        "plt.plot(np.cumsum(pca.explained_variance_ratio_))\n",
        "plt.xlabel('Number of Components')\n",
        "plt.ylabel('Cumulative Explained Variance')\n",
        "plt.axhline(0.95, color='red', linestyle='--')\n",
        "plt.title('PCA Variance Analysis')\n",
        "plt.show()"
      ],
      "metadata": {
        "colab": {
          "base_uri": "https://localhost:8080/",
          "height": 564
        },
        "id": "5BWEYtj2TeHa",
        "outputId": "953b0368-0c96-4c60-f92e-2ec3b0572dd2"
      },
      "execution_count": 7,
      "outputs": [
        {
          "output_type": "display_data",
          "data": {
            "text/plain": [
              "<Figure size 1000x600 with 1 Axes>"
            ],
            "image/png": "[encoded data removed]"
          },
          "metadata": {}
        }
      ]
    },
    {
      "cell_type": "code",
      "source": [
        "# Choose components for 95% variance\n",
        "n_components = np.where(np.cumsum(pca.explained_variance_ratio_) >= 0.95)[0][0] + 1\n",
        "print(f\"Components needed for 95% variance: {n_components}\")\n",
        "\n",
        "# Final PCA transform\n",
        "pca = PCA(n_components=n_components)\n",
        "X_pca = pca.fit_transform(X_scaled)\n",
        "\n",
        "print(\"\\nFinal PCA Shape:\", X_pca.shape)\n",
        "print(\"Explained Variance:\", np.cumsum(pca.explained_variance_ratio_))\n"
      ],
      "metadata": {
        "colab": {
          "base_uri": "https://localhost:8080/"
        },
        "id": "Mr2-EpAbTkpF",
        "outputId": "f47343c5-36ed-46ae-b9fc-a1ec9f89ef2a"
      },
      "execution_count": 8,
      "outputs": [
        {
          "output_type": "stream",
          "name": "stdout",
          "text": [
            "Components needed for 95% variance: 10\n",
            "\n",
            "Final PCA Shape: (323925, 10)\n",
            "Explained Variance: [0.18237485 0.30251268 0.41057432 0.51371151 0.60503216 0.69573723\n",
            " 0.77860481 0.84765063 0.91567643 0.96855338]\n"
          ]
        }
      ]
    },
    {
      "cell_type": "code",
      "source": [
        "# === STEP 9: Result Interpretation ===\n",
        "# Create loadings dataframe\n",
        "loadings = pd.DataFrame(\n",
        "    pca.components_.T,\n",
        "    columns=[f'PC{i+1}' for i in range(n_components)],\n",
        "    index=numeric_cols\n",
        ")\n",
        "\n",
        "# Show top features for first component\n",
        "print(\"\\nTop Features Driving PC1:\")\n",
        "print(loadings.abs().sort_values('PC1', ascending=False).head(5)['PC1'])\n"
      ],
      "metadata": {
        "colab": {
          "base_uri": "https://localhost:8080/"
        },
        "id": "3o_67FZmTpC1",
        "outputId": "2fbb96ca-d230-4f51-f294-7097a1606329"
      },
      "execution_count": 9,
      "outputs": [
        {
          "output_type": "stream",
          "name": "stdout",
          "text": [
            "\n",
            "Top Features Driving PC1:\n",
            "score              0.606407\n",
            "dropped_out        0.545111\n",
            "sum_click          0.469170\n",
            "studied_credits    0.211576\n",
            "weight             0.187395\n",
            "Name: PC1, dtype: float64\n"
          ]
        }
      ]
    },
    {
      "cell_type": "code",
      "source": [
        "\n",
        "# Save final results\n",
        "pca_df = pd.DataFrame(X_pca, columns=[f'PC{i+1}' for i in range(n_components)])\n",
        "pca_df.to_csv('/content/drive/MyDrive/A_test/final_pca_results.csv', index=False)\n",
        "pca_df.shape"
      ],
      "metadata": {
        "colab": {
          "base_uri": "https://localhost:8080/"
        },
        "id": "Mr5KjrAlTwij",
        "outputId": "d8be668d-dac9-4e3e-fab0-8918154de34b"
      },
      "execution_count": 10,
      "outputs": [
        {
          "output_type": "execute_result",
          "data": {
            "text/plain": [
              "(323925, 10)"
            ]
          },
          "metadata": {},
          "execution_count": 10
        }
      ]
    },
    {
      "cell_type": "code",
      "source": [
        "# Separate features & target BEFORE PCA\n",
        "X = df.drop(columns=['final_result'])  # All preprocessed features\n",
        "y = df['final_result']  # Target variable\n",
        "\n",
        "# Split data\n",
        "from sklearn.model_selection import train_test_split\n",
        "X_train, X_test, y_train, y_test = train_test_split(\n",
        "    X, y, test_size=0.2, stratify=y, random_state=42\n",
        ")"
      ],
      "metadata": {
        "id": "fMMq03yyT4Tp"
      },
      "execution_count": 11,
      "outputs": []
    },
    {
      "cell_type": "code",
      "source": [
        "# Use your 10 PCA components\n",
        "from sklearn.ensemble import RandomForestClassifier\n",
        "\n",
        "model_pca = RandomForestClassifier()\n",
        "model_pca.fit(X_pca_train, y_train)  # X_pca from earlier"
      ],
      "metadata": {
        "colab": {
          "base_uri": "https://localhost:8080/",
          "height": 176
        },
        "id": "Rq_HHRQmVuO4",
        "outputId": "432cb1db-2dc8-4665-f506-98c00e3fb5d9"
      },
      "execution_count": 12,
      "outputs": [
        {
          "output_type": "error",
          "ename": "NameError",
          "evalue": "name 'X_pca_train' is not defined",
          "traceback": [
            "\u001b[0;31m---------------------------------------------------------------------------\u001b[0m",
            "\u001b[0;31mNameError\u001b[0m                                 Traceback (most recent call last)",
            "\u001b[0;32m<ipython-input-12-573f31a9b5b9>\u001b[0m in \u001b[0;36m<cell line: 0>\u001b[0;34m()\u001b[0m\n\u001b[1;32m      3\u001b[0m \u001b[0;34m\u001b[0m\u001b[0m\n\u001b[1;32m      4\u001b[0m \u001b[0mmodel_pca\u001b[0m \u001b[0;34m=\u001b[0m \u001b[0mRandomForestClassifier\u001b[0m\u001b[0;34m(\u001b[0m\u001b[0;34m)\u001b[0m\u001b[0;34m\u001b[0m\u001b[0;34m\u001b[0m\u001b[0m\n\u001b[0;32m----> 5\u001b[0;31m \u001b[0mmodel_pca\u001b[0m\u001b[0;34m.\u001b[0m\u001b[0mfit\u001b[0m\u001b[0;34m(\u001b[0m\u001b[0mX_pca_train\u001b[0m\u001b[0;34m,\u001b[0m \u001b[0my_train\u001b[0m\u001b[0;34m)\u001b[0m  \u001b[0;31m# X_pca from earlier\u001b[0m\u001b[0;34m\u001b[0m\u001b[0;34m\u001b[0m\u001b[0m\n\u001b[0m",
            "\u001b[0;31mNameError\u001b[0m: name 'X_pca_train' is not defined"
          ]
        }
      ]
    },
    {
      "cell_type": "code",
      "source": [],
      "metadata": {
        "id": "apCN44SsWGHq"
      },
      "execution_count": 13,
      "outputs": []
    },
    {
      "cell_type": "markdown",
      "source": [
        "#Strategy 1"
      ],
      "metadata": {
        "id": "tkbAsGlFXL3X"
      }
    },
    {
      "cell_type": "code",
      "source": [
        "# === STEP 1: Imports ===\n",
        "import pandas as pd\n",
        "import numpy as np\n",
        "import matplotlib.pyplot as plt\n",
        "from sklearn.preprocessing import StandardScaler\n",
        "from sklearn.decomposition import PCA\n",
        "from sklearn.model_selection import train_test_split\n",
        "from sklearn.linear_model import LogisticRegression\n",
        "from sklearn.metrics import classification_report, confusion_matrix\n",
        "\n",
        "# === STEP 2: Load Datasets ===\n",
        "assessments = pd.read_csv('/content/drive/MyDrive/A_test/assessments.csv')\n",
        "courses = pd.read_csv('/content/drive/MyDrive/A_test/courses.csv')\n",
        "studentAssessment = pd.read_csv('/content/drive/MyDrive/A_test/studentAssessment.csv')\n",
        "studentInfo = pd.read_csv('/content/drive/MyDrive/A_test/studentInfo.csv')\n",
        "studentRegistration = pd.read_csv('/content/drive/MyDrive/A_test/studentRegistration.csv')\n",
        "vle = pd.read_csv('/content/drive/MyDrive/A_test/vle.csv')\n",
        "studentVle = pd.read_csv('/content/drive/MyDrive/A_test/studentVle.csv')\n"
      ],
      "metadata": {
        "id": "92qR78UcXOE2"
      },
      "execution_count": 14,
      "outputs": []
    },
    {
      "cell_type": "code",
      "source": [
        "\n",
        "# === STEP 3: Merge Core Tables ===\n",
        "df = pd.merge(studentInfo, studentRegistration, on=['code_module', 'code_presentation', 'id_student'], how='left')\n",
        "df = pd.merge(df, courses, on=['code_module', 'code_presentation'], how='left')\n",
        "\n",
        "# Merge assessments and scores\n",
        "course_assessments = pd.merge(courses, assessments, on=['code_module', 'code_presentation'], how='left')\n",
        "df = pd.merge(df, course_assessments, on=['code_module', 'code_presentation'], how='left', suffixes=('', '_assessments'))\n",
        "df['module_presentation_length'] = df['module_presentation_length_assessments']\n",
        "df = df.drop(columns=['module_presentation_length_assessments'])\n",
        "\n",
        "df = pd.merge(df, studentAssessment, on=['id_assessment', 'id_student'], how='left')\n",
        "\n",
        "# VLE interactions\n",
        "vle_interactions = pd.merge(vle, studentVle, on=['id_site', 'code_module', 'code_presentation'], how='inner')\n",
        "vle_agg = vle_interactions.groupby(['code_module', 'code_presentation', 'id_student'])['sum_click'].sum().reset_index()\n",
        "df = pd.merge(df, vle_agg, on=['code_module', 'code_presentation', 'id_student'], how='left')\n"
      ],
      "metadata": {
        "id": "6R7dwN8VXOfU"
      },
      "execution_count": 15,
      "outputs": []
    },
    {
      "cell_type": "code",
      "source": [
        "\n",
        "# === STEP 4: Handle Missing Values ===\n",
        "df['score'] = df['score'].fillna(0)\n",
        "df['sum_click'] = df['sum_click'].fillna(0)\n",
        "df['date'] = df.groupby(['code_module','code_presentation'])['date'].transform(lambda x: x.fillna(x.median()))\n",
        "df['date_submitted'] = df['date_submitted'].fillna(-1)\n",
        "df['is_banked'] = df['is_banked'].fillna(0).astype(int)\n",
        "df['imd_band'] = df['imd_band'].fillna(df['imd_band'].mode()[0])\n",
        "df['date_registration'] = df.groupby(['code_module','code_presentation'])['date_registration'].transform(lambda x: x.fillna(x.median()))\n",
        "\n",
        "# === STEP 5: Feature Engineering ===\n",
        "df['dropped_out'] = np.where(df['date_unregistration'].isna(), 0, 1)\n",
        "df['days_to_assessment'] = df['date'] - df['date_registration']\n",
        "df['submission_delay'] = np.where(df['date_submitted'] == -1, -1, df['date_submitted'] - df['date'])\n",
        "df['submission_delay'] = np.where(df['submission_delay'] < 0, 0, df['submission_delay'])\n",
        "\n",
        "# Frequency encode region\n",
        "region_freq = df['region'].value_counts(normalize=True)\n",
        "df['region_encoded'] = df['region'].map(region_freq)\n",
        "\n"
      ],
      "metadata": {
        "id": "RjyGX3VUXOiE"
      },
      "execution_count": 16,
      "outputs": []
    },
    {
      "cell_type": "code",
      "source": [
        "# === STEP 6: Drop Unneeded Columns ===\n",
        "drop_cols = [\n",
        "    'code_module', 'code_presentation', 'id_student', 'id_assessment',\n",
        "    'date_unregistration', 'date', 'date_submitted', 'date_registration',\n",
        "    'region', 'assessment_type'\n",
        "]\n",
        "df_clean = df.drop(columns=drop_cols)\n",
        "\n",
        "# === STEP 7: Encode Categorical Variables ===\n",
        "target = df_clean['final_result']\n",
        "df_clean = df_clean.drop(columns=['final_result'])  # Exclude from features for PCA\n",
        "\n",
        "cat_cols = ['gender', 'highest_education', 'imd_band', 'age_band', 'disability']\n",
        "df_encoded = pd.get_dummies(df_clean, columns=cat_cols, drop_first=True)\n"
      ],
      "metadata": {
        "id": "cqAn3A6YXOlR"
      },
      "execution_count": 17,
      "outputs": []
    },
    {
      "cell_type": "code",
      "source": [
        "# === STEP 8: Scaling ===\n",
        "scaler = StandardScaler()\n",
        "X_scaled = scaler.fit_transform(df_encoded)\n",
        "\n",
        "# === STEP 9: PCA for Dimensionality Reduction ===\n",
        "pca = PCA(n_components=0.95)\n",
        "X_pca = pca.fit_transform(X_scaled)\n",
        "print(f\"PCA reduced shape: {X_pca.shape}\")\n"
      ],
      "metadata": {
        "colab": {
          "base_uri": "https://localhost:8080/"
        },
        "id": "gTdc5L-KXOoL",
        "outputId": "cf0f7489-a06a-4ba0-cb9e-d3696e7d0cf9"
      },
      "execution_count": 18,
      "outputs": [
        {
          "output_type": "stream",
          "name": "stdout",
          "text": [
            "PCA reduced shape: (323925, 25)\n"
          ]
        }
      ]
    },
    {
      "cell_type": "code",
      "source": [
        "# === STEP 10: Prepare Labels ===\n",
        "y = target.map({'Fail': 0, 'Withdrawn': 1, 'Pass': 2, 'Distinction': 3})  # You can adjust as needed\n",
        "\n",
        "# === STEP 11: Train/Test Split ===\n",
        "X_train, X_test, y_train, y_test = train_test_split(X_pca, y, test_size=0.2, random_state=42, stratify=y)\n"
      ],
      "metadata": {
        "id": "Tz5e56VaXOrO"
      },
      "execution_count": 23,
      "outputs": []
    },
    {
      "cell_type": "code",
      "source": [
        "# === STEP 12: Classification Model (Logistic Regression Example) ===\n",
        "model = LogisticRegression(max_iter=10)\n",
        "model.fit(X_train, y_train)\n",
        "\n",
        "# === STEP 13: Evaluation ===\n",
        "y_pred = model.predict(X_test)\n",
        "print(\"\\nConfusion Matrix:\")\n",
        "print(confusion_matrix(y_test, y_pred))\n",
        "\n",
        "print(\"\\nClassification Report:\")\n",
        "print(classification_report(y_test, y_pred, target_names=['Fail', 'Withdrawn', 'Pass', 'Distinction']))\n"
      ],
      "metadata": {
        "colab": {
          "base_uri": "https://localhost:8080/"
        },
        "id": "J0BFc-5nXOt9",
        "outputId": "c83f9741-7f8c-467e-b4d7-a0b36bdff5ea"
      },
      "execution_count": 24,
      "outputs": [
        {
          "output_type": "stream",
          "name": "stdout",
          "text": [
            "\n",
            "Confusion Matrix:\n",
            "[[ 9496   327  4554    15]\n",
            " [  674 19497    69     2]\n",
            " [ 2460    17 21381   334]\n",
            " [  240     2  5385   332]]\n",
            "\n",
            "Classification Report:\n",
            "              precision    recall  f1-score   support\n",
            "\n",
            "        Fail       0.74      0.66      0.70     14392\n",
            "   Withdrawn       0.98      0.96      0.97     20242\n",
            "        Pass       0.68      0.88      0.77     24192\n",
            " Distinction       0.49      0.06      0.10      5959\n",
            "\n",
            "    accuracy                           0.78     64785\n",
            "   macro avg       0.72      0.64      0.63     64785\n",
            "weighted avg       0.77      0.78      0.76     64785\n",
            "\n"
          ]
        },
        {
          "output_type": "stream",
          "name": "stderr",
          "text": [
            "/usr/local/lib/python3.11/dist-packages/sklearn/linear_model/_logistic.py:465: ConvergenceWarning: lbfgs failed to converge (status=1):\n",
            "STOP: TOTAL NO. of ITERATIONS REACHED LIMIT.\n",
            "\n",
            "Increase the number of iterations (max_iter) or scale the data as shown in:\n",
            "    https://scikit-learn.org/stable/modules/preprocessing.html\n",
            "Please also refer to the documentation for alternative solver options:\n",
            "    https://scikit-learn.org/stable/modules/linear_model.html#logistic-regression\n",
            "  n_iter_i = _check_optimize_result(\n"
          ]
        }
      ]
    },
    {
      "cell_type": "code",
      "source": [
        "# === STEP 14: Save PCA Output (Optional) ===\n",
        "pca_df = pd.DataFrame(X_pca, columns=[f'PC{i+1}' for i in range(X_pca.shape[1])])\n",
        "pca_df['final_result'] = y.values\n",
        "pca_df.to_csv('/content/drive/MyDrive/A_test/final_pca_with_labels.csv', index=False)\n"
      ],
      "metadata": {
        "id": "N3dXXr9WX61Q"
      },
      "execution_count": 25,
      "outputs": []
    },
    {
      "cell_type": "code",
      "source": [
        "# prompt: apply XGBoost\tLightGBM Stacked Ensemble\n",
        "\n",
        "import xgboost as xgb\n",
        "import lightgbm as lgb\n",
        "from sklearn.ensemble import StackingClassifier\n",
        "from sklearn.linear_model import LogisticRegression\n",
        "\n",
        "# Assuming X_train, X_test, y_train, y_test are already defined from previous code\n",
        "\n",
        "# Define base models\n",
        "xgb_model = xgb.XGBClassifier(random_state=42)\n",
        "lgb_model = lgb.LGBMClassifier(random_state=42)\n",
        "\n",
        "# Define meta-learner\n",
        "meta_learner = LogisticRegression()\n",
        "\n",
        "# Create StackingClassifier\n",
        "stacking_model = StackingClassifier(\n",
        "    estimators=[('xgb', xgb_model), ('lgb', lgb_model)],\n",
        "    final_estimator=meta_learner,\n",
        "    cv=5  # Adjust cross-validation folds as needed\n",
        ")\n",
        "\n",
        "# Train the stacked ensemble\n",
        "stacking_model.fit(X_train, y_train)\n",
        "\n",
        "# Make predictions\n",
        "y_pred = stacking_model.predict(X_test)\n",
        "\n",
        "# Evaluate the model (using metrics from previous code)\n",
        "print(\"\\nConfusion Matrix:\")\n",
        "print(confusion_matrix(y_test, y_pred))\n",
        "\n",
        "print(\"\\nClassification Report:\")\n",
        "print(classification_report(y_test, y_pred, target_names=['Fail', 'Withdrawn', 'Pass', 'Distinction']))\n"
      ],
      "metadata": {
        "colab": {
          "base_uri": "https://localhost:8080/"
        },
        "id": "KR59Z6PHYB4u",
        "outputId": "b6528b9d-8984-4c7c-b975-33f55a0c2605"
      },
      "execution_count": 26,
      "outputs": [
        {
          "output_type": "stream",
          "name": "stderr",
          "text": [
            "/usr/local/lib/python3.11/dist-packages/sklearn/utils/deprecation.py:151: FutureWarning: 'force_all_finite' was renamed to 'ensure_all_finite' in 1.6 and will be removed in 1.8.\n",
            "  warnings.warn(\n"
          ]
        },
        {
          "output_type": "stream",
          "name": "stdout",
          "text": [
            "[LightGBM] [Info] Auto-choosing col-wise multi-threading, the overhead of testing was 0.063516 seconds.\n",
            "You can set `force_col_wise=true` to remove the overhead.\n",
            "[LightGBM] [Info] Total Bins 6375\n",
            "[LightGBM] [Info] Number of data points in the train set: 259140, number of used features: 25\n",
            "[LightGBM] [Info] Start training from score -1.504436\n",
            "[LightGBM] [Info] Start training from score -1.163302\n",
            "[LightGBM] [Info] Start training from score -0.985062\n",
            "[LightGBM] [Info] Start training from score -2.386088\n"
          ]
        },
        {
          "output_type": "stream",
          "name": "stderr",
          "text": [
            "/usr/local/lib/python3.11/dist-packages/sklearn/utils/deprecation.py:151: FutureWarning: 'force_all_finite' was renamed to 'ensure_all_finite' in 1.6 and will be removed in 1.8.\n",
            "  warnings.warn(\n"
          ]
        },
        {
          "output_type": "stream",
          "name": "stdout",
          "text": [
            "[LightGBM] [Info] Auto-choosing col-wise multi-threading, the overhead of testing was 0.088052 seconds.\n",
            "You can set `force_col_wise=true` to remove the overhead.\n",
            "[LightGBM] [Info] Total Bins 6375\n",
            "[LightGBM] [Info] Number of data points in the train set: 207312, number of used features: 25\n",
            "[LightGBM] [Info] Start training from score -1.504432\n",
            "[LightGBM] [Info] Start training from score -1.163305\n",
            "[LightGBM] [Info] Start training from score -0.985070\n",
            "[LightGBM] [Info] Start training from score -2.386056\n"
          ]
        },
        {
          "output_type": "stream",
          "name": "stderr",
          "text": [
            "/usr/local/lib/python3.11/dist-packages/sklearn/utils/deprecation.py:151: FutureWarning: 'force_all_finite' was renamed to 'ensure_all_finite' in 1.6 and will be removed in 1.8.\n",
            "  warnings.warn(\n",
            "/usr/local/lib/python3.11/dist-packages/sklearn/utils/deprecation.py:151: FutureWarning: 'force_all_finite' was renamed to 'ensure_all_finite' in 1.6 and will be removed in 1.8.\n",
            "  warnings.warn(\n"
          ]
        },
        {
          "output_type": "stream",
          "name": "stdout",
          "text": [
            "[LightGBM] [Info] Auto-choosing col-wise multi-threading, the overhead of testing was 0.049826 seconds.\n",
            "You can set `force_col_wise=true` to remove the overhead.\n",
            "[LightGBM] [Info] Total Bins 6375\n",
            "[LightGBM] [Info] Number of data points in the train set: 207312, number of used features: 25\n",
            "[LightGBM] [Info] Start training from score -1.504432\n",
            "[LightGBM] [Info] Start training from score -1.163305\n",
            "[LightGBM] [Info] Start training from score -0.985057\n",
            "[LightGBM] [Info] Start training from score -2.386108\n"
          ]
        },
        {
          "output_type": "stream",
          "name": "stderr",
          "text": [
            "/usr/local/lib/python3.11/dist-packages/sklearn/utils/deprecation.py:151: FutureWarning: 'force_all_finite' was renamed to 'ensure_all_finite' in 1.6 and will be removed in 1.8.\n",
            "  warnings.warn(\n",
            "/usr/local/lib/python3.11/dist-packages/sklearn/utils/deprecation.py:151: FutureWarning: 'force_all_finite' was renamed to 'ensure_all_finite' in 1.6 and will be removed in 1.8.\n",
            "  warnings.warn(\n"
          ]
        },
        {
          "output_type": "stream",
          "name": "stdout",
          "text": [
            "[LightGBM] [Info] Auto-choosing col-wise multi-threading, the overhead of testing was 0.050119 seconds.\n",
            "You can set `force_col_wise=true` to remove the overhead.\n",
            "[LightGBM] [Info] Total Bins 6375\n",
            "[LightGBM] [Info] Number of data points in the train set: 207312, number of used features: 25\n",
            "[LightGBM] [Info] Start training from score -1.504432\n",
            "[LightGBM] [Info] Start training from score -1.163305\n",
            "[LightGBM] [Info] Start training from score -0.985057\n",
            "[LightGBM] [Info] Start training from score -2.386108\n"
          ]
        },
        {
          "output_type": "stream",
          "name": "stderr",
          "text": [
            "/usr/local/lib/python3.11/dist-packages/sklearn/utils/deprecation.py:151: FutureWarning: 'force_all_finite' was renamed to 'ensure_all_finite' in 1.6 and will be removed in 1.8.\n",
            "  warnings.warn(\n",
            "/usr/local/lib/python3.11/dist-packages/sklearn/utils/deprecation.py:151: FutureWarning: 'force_all_finite' was renamed to 'ensure_all_finite' in 1.6 and will be removed in 1.8.\n",
            "  warnings.warn(\n"
          ]
        },
        {
          "output_type": "stream",
          "name": "stdout",
          "text": [
            "[LightGBM] [Info] Auto-choosing col-wise multi-threading, the overhead of testing was 0.055723 seconds.\n",
            "You can set `force_col_wise=true` to remove the overhead.\n",
            "[LightGBM] [Info] Total Bins 6375\n",
            "[LightGBM] [Info] Number of data points in the train set: 207312, number of used features: 25\n",
            "[LightGBM] [Info] Start training from score -1.504432\n",
            "[LightGBM] [Info] Start training from score -1.163305\n",
            "[LightGBM] [Info] Start training from score -0.985057\n",
            "[LightGBM] [Info] Start training from score -2.386108\n"
          ]
        },
        {
          "output_type": "stream",
          "name": "stderr",
          "text": [
            "/usr/local/lib/python3.11/dist-packages/sklearn/utils/deprecation.py:151: FutureWarning: 'force_all_finite' was renamed to 'ensure_all_finite' in 1.6 and will be removed in 1.8.\n",
            "  warnings.warn(\n",
            "/usr/local/lib/python3.11/dist-packages/sklearn/utils/deprecation.py:151: FutureWarning: 'force_all_finite' was renamed to 'ensure_all_finite' in 1.6 and will be removed in 1.8.\n",
            "  warnings.warn(\n"
          ]
        },
        {
          "output_type": "stream",
          "name": "stdout",
          "text": [
            "[LightGBM] [Info] Auto-choosing col-wise multi-threading, the overhead of testing was 0.049549 seconds.\n",
            "You can set `force_col_wise=true` to remove the overhead.\n",
            "[LightGBM] [Info] Total Bins 6375\n",
            "[LightGBM] [Info] Number of data points in the train set: 207312, number of used features: 25\n",
            "[LightGBM] [Info] Start training from score -1.504454\n",
            "[LightGBM] [Info] Start training from score -1.163290\n",
            "[LightGBM] [Info] Start training from score -0.985070\n",
            "[LightGBM] [Info] Start training from score -2.386056\n"
          ]
        },
        {
          "output_type": "stream",
          "name": "stderr",
          "text": [
            "/usr/local/lib/python3.11/dist-packages/sklearn/utils/deprecation.py:151: FutureWarning: 'force_all_finite' was renamed to 'ensure_all_finite' in 1.6 and will be removed in 1.8.\n",
            "  warnings.warn(\n",
            "/usr/local/lib/python3.11/dist-packages/sklearn/utils/deprecation.py:151: FutureWarning: 'force_all_finite' was renamed to 'ensure_all_finite' in 1.6 and will be removed in 1.8.\n",
            "  warnings.warn(\n"
          ]
        },
        {
          "output_type": "stream",
          "name": "stdout",
          "text": [
            "\n",
            "Confusion Matrix:\n",
            "[[10137    63  4110    82]\n",
            " [  149 20036    56     1]\n",
            " [ 1999    11 21323   859]\n",
            " [  211     3  3646  2099]]\n",
            "\n",
            "Classification Report:\n",
            "              precision    recall  f1-score   support\n",
            "\n",
            "        Fail       0.81      0.70      0.75     14392\n",
            "   Withdrawn       1.00      0.99      0.99     20242\n",
            "        Pass       0.73      0.88      0.80     24192\n",
            " Distinction       0.69      0.35      0.47      5959\n",
            "\n",
            "    accuracy                           0.83     64785\n",
            "   macro avg       0.81      0.73      0.75     64785\n",
            "weighted avg       0.83      0.83      0.82     64785\n",
            "\n"
          ]
        }
      ]
    },
    {
      "cell_type": "code",
      "source": [],
      "metadata": {
        "id": "kliolOJjbmpy"
      },
      "execution_count": null,
      "outputs": []
    },
    {
      "cell_type": "markdown",
      "source": [
        "# Strategy 2"
      ],
      "metadata": {
        "id": "cBNWtfGob3w-"
      }
    },
    {
      "cell_type": "code",
      "source": [
        "# Core Libraries\n",
        "import pandas as pd\n",
        "import numpy as np\n",
        "import matplotlib.pyplot as plt\n",
        "import seaborn as sns\n",
        "\n",
        "# Scikit-Learn\n",
        "from sklearn.model_selection import train_test_split, GridSearchCV\n",
        "from sklearn.preprocessing import StandardScaler, LabelEncoder\n",
        "from sklearn.decomposition import PCA\n",
        "from sklearn.pipeline import Pipeline\n",
        "from sklearn.metrics import classification_report, confusion_matrix, balanced_accuracy_score\n",
        "\n",
        "# Models & Imbalance Handling\n",
        "from xgboost import XGBClassifier\n",
        "from sklearn.ensemble import RandomForestClassifier\n",
        "from imblearn.over_sampling import SMOTE\n",
        "\n",
        "# Save Model\n",
        "import joblib\n"
      ],
      "metadata": {
        "id": "anqExH9IbnHZ"
      },
      "execution_count": 1,
      "outputs": []
    },
    {
      "cell_type": "markdown",
      "source": [
        "2. Data Loading & Merging\n"
      ],
      "metadata": {
        "id": "NSO2RxE-o5WP"
      }
    },
    {
      "cell_type": "code",
      "source": [
        "# Load All CSV Files\n",
        "def load_data(base_path='/content/drive/MyDrive/A_test/'):\n",
        "    return {\n",
        "        'assessments': pd.read_csv(f'{base_path}assessments.csv'),\n",
        "        'courses': pd.read_csv(f'{base_path}courses.csv'),\n",
        "        'studentAssessment': pd.read_csv(f'{base_path}studentAssessment.csv'),\n",
        "        'studentInfo': pd.read_csv(f'{base_path}studentInfo.csv'),\n",
        "        'studentRegistration': pd.read_csv(f'{base_path}studentRegistration.csv'),\n",
        "        'vle': pd.read_csv(f'{base_path}vle.csv'),\n",
        "        'studentVle': pd.read_csv(f'{base_path}studentVle.csv')\n",
        "    }\n",
        "\n",
        "# Merge Tables\n",
        "def merge_data(data):\n",
        "    # Core student info\n",
        "    df = pd.merge(data['studentInfo'], data['studentRegistration'],\n",
        "                on=['code_module','code_presentation','id_student'], how='left')\n",
        "\n",
        "    # Course metadata\n",
        "    df = pd.merge(df, data['courses'],\n",
        "                on=['code_module','code_presentation'], how='left')\n",
        "\n",
        "    # Assessments\n",
        "    course_assessments = pd.merge(data['courses'], data['assessments'],\n",
        "                                on=['code_module','code_presentation'], how='left')\n",
        "    df = pd.merge(df, course_assessments, on=['code_module','code_presentation'],\n",
        "                suffixes=('', '_assessments'), how='left')\n",
        "    df['module_presentation_length'] = df['module_presentation_length_assessments']\n",
        "    df.drop(columns=['module_presentation_length_assessments'], inplace=True)\n",
        "\n",
        "    # Student scores\n",
        "    df = pd.merge(df, data['studentAssessment'],\n",
        "                on=['id_assessment','id_student'], how='left')\n",
        "\n",
        "    # VLE clicks\n",
        "    vle_merged = pd.merge(data['vle'], data['studentVle'],\n",
        "                        on=['id_site','code_module','code_presentation'], how='inner')\n",
        "    vle_agg = vle_merged.groupby(['code_module','code_presentation','id_student'])['sum_click'].sum().reset_index()\n",
        "    df = pd.merge(df, vle_agg, on=['code_module','code_presentation','id_student'], how='left')\n",
        "\n",
        "    return df\n",
        "\n",
        "# Execute\n",
        "data = load_data()\n",
        "df = merge_data(data)\n",
        "\n"
      ],
      "metadata": {
        "id": "qi3D9Tx5b6mb"
      },
      "execution_count": 2,
      "outputs": []
    },
    {
      "cell_type": "code",
      "source": [
        "!pip install category_encoders"
      ],
      "metadata": {
        "colab": {
          "base_uri": "https://localhost:8080/"
        },
        "collapsed": true,
        "id": "rcBBuVqTsPma",
        "outputId": "28559449-21d9-42ff-e72d-8580a5ed26fc"
      },
      "execution_count": 3,
      "outputs": [
        {
          "output_type": "stream",
          "name": "stdout",
          "text": [
            "Collecting category_encoders\n",
            "  Downloading category_encoders-2.8.1-py3-none-any.whl.metadata (7.9 kB)\n",
            "Requirement already satisfied: numpy>=1.14.0 in /usr/local/lib/python3.11/dist-packages (from category_encoders) (2.0.2)\n",
            "Requirement already satisfied: pandas>=1.0.5 in /usr/local/lib/python3.11/dist-packages (from category_encoders) (2.2.2)\n",
            "Requirement already satisfied: patsy>=0.5.1 in /usr/local/lib/python3.11/dist-packages (from category_encoders) (1.0.1)\n",
            "Requirement already satisfied: scikit-learn>=1.6.0 in /usr/local/lib/python3.11/dist-packages (from category_encoders) (1.6.1)\n",
            "Requirement already satisfied: scipy>=1.0.0 in /usr/local/lib/python3.11/dist-packages (from category_encoders) (1.14.1)\n",
            "Requirement already satisfied: statsmodels>=0.9.0 in /usr/local/lib/python3.11/dist-packages (from category_encoders) (0.14.4)\n",
            "Requirement already satisfied: python-dateutil>=2.8.2 in /usr/local/lib/python3.11/dist-packages (from pandas>=1.0.5->category_encoders) (2.8.2)\n",
            "Requirement already satisfied: pytz>=2020.1 in /usr/local/lib/python3.11/dist-packages (from pandas>=1.0.5->category_encoders) (2025.2)\n",
            "Requirement already satisfied: tzdata>=2022.7 in /usr/local/lib/python3.11/dist-packages (from pandas>=1.0.5->category_encoders) (2025.2)\n",
            "Requirement already satisfied: joblib>=1.2.0 in /usr/local/lib/python3.11/dist-packages (from scikit-learn>=1.6.0->category_encoders) (1.4.2)\n",
            "Requirement already satisfied: threadpoolctl>=3.1.0 in /usr/local/lib/python3.11/dist-packages (from scikit-learn>=1.6.0->category_encoders) (3.6.0)\n",
            "Requirement already satisfied: packaging>=21.3 in /usr/local/lib/python3.11/dist-packages (from statsmodels>=0.9.0->category_encoders) (24.2)\n",
            "Requirement already satisfied: six>=1.5 in /usr/local/lib/python3.11/dist-packages (from python-dateutil>=2.8.2->pandas>=1.0.5->category_encoders) (1.17.0)\n",
            "Downloading category_encoders-2.8.1-py3-none-any.whl (85 kB)\n",
            "\u001b[2K   \u001b[90m━━━━━━━━━━━━━━━━━━━━━━━━━━━━━━━━━━━━━━━━\u001b[0m \u001b[32m85.7/85.7 kB\u001b[0m \u001b[31m3.5 MB/s\u001b[0m eta \u001b[36m0:00:00\u001b[0m\n",
            "\u001b[?25hInstalling collected packages: category_encoders\n",
            "Successfully installed category_encoders-2.8.1\n"
          ]
        }
      ]
    },
    {
      "cell_type": "markdown",
      "source": [
        "3. Feature Engineering & Cleaning"
      ],
      "metadata": {
        "id": "BEmQcTHyo_ZU"
      }
    },
    {
      "cell_type": "code",
      "source": [
        "\n",
        "from category_encoders import TargetEncoder\n",
        "def preprocess(df):\n",
        "    # Handle Missing Values\n",
        "    df['score'] = df['score'].fillna(0)  # No attempt = 0\n",
        "    df['sum_click'] = df['sum_click'].fillna(0)  # No interaction = 0\n",
        "    df['imd_band'] = df['imd_band'].fillna(df['imd_band'].mode()[0])\n",
        "\n",
        "    # Temporal Features\n",
        "    df['date'] = df.groupby(['code_module','code_presentation'])['date'].transform(lambda x: x.fillna(x.median()))\n",
        "    df['date_registration'] = df.groupby(['code_module','code_presentation'])['date_registration'].transform(lambda x: x.fillna(x.median()))\n",
        "\n",
        "    # Feature Engineering\n",
        "    df['dropped_out'] = np.where(df['date_unregistration'].isna(), 0, 1)\n",
        "    df['days_to_assessment'] = df['date'] - df['date_registration']\n",
        "\n",
        "    # Target Encoding for Region\n",
        "    region_encoder = TargetEncoder()\n",
        "    df['region_encoded'] = region_encoder.fit_transform(df['region'], df['final_result'])\n",
        "\n",
        "    # Drop Irrelevant Columns\n",
        "    df.drop(columns=[\n",
        "        'code_module', 'code_presentation', 'id_student',\n",
        "        'id_assessment', 'date_unregistration', 'date',\n",
        "        'date_submitted', 'date_registration', 'region',\n",
        "        'assessment_type'\n",
        "    ], inplace=True)\n",
        "\n",
        "    return df\n",
        "\n",
        "df_clean = preprocess(df)"
      ],
      "metadata": {
        "id": "9OlFcWmUbnJ-"
      },
      "execution_count": 4,
      "outputs": []
    },
    {
      "cell_type": "markdown",
      "source": [
        "4. Target Encoding & Split"
      ],
      "metadata": {
        "id": "HLmkf1JJpghZ"
      }
    },
    {
      "cell_type": "code",
      "source": [
        "# Encode Target\n",
        "le = LabelEncoder()\n",
        "y = le.fit_transform(df_clean['final_result'])\n",
        "\n",
        "# Features (Exclude Target)\n",
        "X = df_clean.drop(columns=['final_result'])\n",
        "\n",
        "# Stratified Split (Prevent Data Leakage)\n",
        "X_train, X_test, y_train, y_test = train_test_split(\n",
        "    X, y,\n",
        "    test_size=0.2,\n",
        "    stratify=y,\n",
        "    random_state=42\n",
        ")"
      ],
      "metadata": {
        "id": "UIG0Q4HUcYOs"
      },
      "execution_count": 5,
      "outputs": []
    },
    {
      "cell_type": "markdown",
      "source": [
        "5. Handle Class Imbalance"
      ],
      "metadata": {
        "id": "_Te1hemqpmJ3"
      }
    },
    {
      "cell_type": "code",
      "source": [
        "# Check Imbalance\n",
        "print(\"Class Distribution:\", np.unique(y_train, return_counts=True))\n",
        "\n",
        "# ----> 1. ENSURE ALL FEATURES ARE NUMERIC <----\n",
        "# Convert all columns to numeric (if needed)\n",
        "X_train = X_train.apply(pd.to_numeric, errors='coerce')\n",
        "\n",
        "# ----> 2. EXPLICIT ONE-HOT ENCODING <----\n",
        "# List all categorical columns (even if they appear numeric)\n",
        "cat_cols = X_train.select_dtypes(include=['object', 'category']).columns.tolist()\n",
        "X_train_encoded = pd.get_dummies(X_train, columns=cat_cols, drop_first=True)\n",
        "\n",
        "# ----> 3. HANDLE NAN AFTER ENCODING <----\n",
        "X_train_encoded = X_train_encoded.fillna(0)\n",
        "\n",
        "# ----> 4. CONVERT TO NUMPY ARRAYS <----\n",
        "X_train_np = X_train_encoded.to_numpy()\n",
        "# y_train is already a NumPy array, no need to convert again\n",
        "y_train_np = y_train\n",
        "\n",
        "# ----> 5. APPLY SMOTE <----\n",
        "if len(np.unique(y)) > 1 and (np.bincount(y).min() / np.bincount(y).max()) < 0.3:\n",
        "    smote = SMOTE(random_state=42)\n",
        "    try:\n",
        "        X_train_res, y_train_res = smote.fit_resample(X_train_np, y_train_np)\n",
        "        X_train = pd.DataFrame(X_train_res, columns=X_train_encoded.columns)\n",
        "        y_train = pd.Series(y_train_res)\n",
        "    except Exception as e:\n",
        "        print(f\"SMOTE Failed: {str(e)}\")\n",
        "        print(\"Debug Info:\")\n",
        "        print(\"X_train shape:\", X_train_np.shape)\n",
        "        print(\"NaN values in X:\", np.isnan(X_train_np).sum())\n",
        "        print(\"Unique y values:\", np.unique(y_train_np))"
      ],
      "metadata": {
        "colab": {
          "base_uri": "https://localhost:8080/"
        },
        "id": "mFVuJffupnZO",
        "outputId": "d6dbdb34-962a-4dde-9f30-4ff004cd4186"
      },
      "execution_count": 7,
      "outputs": [
        {
          "output_type": "stream",
          "name": "stdout",
          "text": [
            "Class Distribution: (array([0, 1, 2, 3]), array([23838, 57566, 96767, 80969]))\n"
          ]
        }
      ]
    },
    {
      "cell_type": "code",
      "source": [
        "# === 1. Check Class Imbalance Properly ===\n",
        "# Use y_train's distribution, not full y\n",
        "unique_classes, class_counts = np.unique(y_train, return_counts=True)\n",
        "print(\"Training Class Distribution:\")\n",
        "for cls, count in zip(unique_classes, class_counts):\n",
        "    print(f\"Class {cls}: {count} samples ({count/len(y_train):.1%})\")\n",
        "\n",
        "# === 2. Convert y_train to Numpy Array Safely ===\n",
        "y_train_np = y_train.to_numpy() if isinstance(y_train, pd.Series) else y_train.copy()\n",
        "\n",
        "# === 3. Revised SMOTE Application ===\n",
        "if len(unique_classes) > 1:\n",
        "    # Calculate imbalance ratio using TRAINING data\n",
        "    minority_ratio = np.min(class_counts) / np.max(class_counts)\n",
        "    print(f\"\\nMinority/Majority Ratio: {minority_ratio:.2f}\")\n",
        "\n",
        "    if minority_ratio < 0.3:\n",
        "        print(\"Applying SMOTE...\")\n",
        "        try:\n",
        "            # Ensure float32 dtype for SMOTE compatibility\n",
        "            X_train_np = X_train_encoded.astype(np.float32).to_numpy()\n",
        "\n",
        "            smote = SMOTE(random_state=42)\n",
        "            X_train_res, y_train_res = smote.fit_resample(X_train_np, y_train_np)\n",
        "\n",
        "            # Convert back to pandas\n",
        "            X_train = pd.DataFrame(X_train_res, columns=X_train_encoded.columns)\n",
        "            y_train = pd.Series(y_train_res, name='final_result')\n",
        "\n",
        "            print(\"\\nPost-SMOTE Class Distribution:\")\n",
        "            print(pd.Series(y_train).value_counts(normalize=True))\n",
        "        except Exception as e:\n",
        "            print(f\"\\nSMOTE Failed: {str(e)}\")\n",
        "            print(\"Debug Info:\")\n",
        "            print(\"- X_train NaN:\", pd.DataFrame(X_train_np).isna().sum().sum())\n",
        "            print(\"- X_train Inf:\", np.isinf(X_train_np).sum())\n",
        "            print(\"- y_train Unique:\", np.unique(y_train_np))\n",
        "    else:\n",
        "        print(\"No SMOTE needed - class ratio > 0.3\")\n",
        "else:\n",
        "    print(\"Only one class present - cannot apply SMOTE\")"
      ],
      "metadata": {
        "colab": {
          "base_uri": "https://localhost:8080/"
        },
        "id": "VF1ZXQCnpjG_",
        "outputId": "cf73d1b2-6647-4f69-e0d1-f3eb2557a32b"
      },
      "execution_count": 8,
      "outputs": [
        {
          "output_type": "stream",
          "name": "stdout",
          "text": [
            "Training Class Distribution:\n",
            "Class 0: 96767 samples (25.0%)\n",
            "Class 1: 96767 samples (25.0%)\n",
            "Class 2: 96767 samples (25.0%)\n",
            "Class 3: 96767 samples (25.0%)\n",
            "\n",
            "Minority/Majority Ratio: 1.00\n",
            "No SMOTE needed - class ratio > 0.3\n"
          ]
        }
      ]
    },
    {
      "cell_type": "code",
      "source": [
        "# Pipeline 1: PCA + Random Forest\n",
        "pca_pipeline = Pipeline([\n",
        "    ('scaler', StandardScaler()),\n",
        "    ('pca', PCA(n_components=0.95)),  # Variance-based\n",
        "    ('classifier', RandomForestClassifier(class_weight='balanced'))\n",
        "])\n",
        "\n",
        "# Pipeline 2: XGBoost (Raw Features)\n",
        "xgb_pipeline = Pipeline([\n",
        "    ('scaler', StandardScaler()),\n",
        "    ('classifier', XGBClassifier(\n",
        "        eval_metric='mlogloss',\n",
        "        use_label_encoder=False,\n",
        "        tree_method='gpu_hist'  # Enable GPU acceleration\n",
        "    ))\n",
        "])"
      ],
      "metadata": {
        "id": "HcqYzapPrbNW"
      },
      "execution_count": 9,
      "outputs": []
    },
    {
      "cell_type": "code",
      "source": [
        "# Parameter Grids\n",
        "param_grid_pca = {\n",
        "    'classifier__n_estimators': [10, 20],\n",
        "    'classifier__max_depth': [None, 10],\n",
        "    'pca__n_components': [10, 15]\n",
        "}\n",
        "\n",
        "param_grid_xgb = {\n",
        "    'classifier__learning_rate': [0.1, 0.01],\n",
        "    'classifier__max_depth': [3, 5],\n",
        "    'classifier__n_estimators': [10, 20]\n",
        "}\n",
        "\n",
        "# Grid Search\n",
        "pca_search = GridSearchCV(pca_pipeline, param_grid_pca, cv=3, n_jobs=-1, verbose=2)\n",
        "xgb_search = GridSearchCV(xgb_pipeline, param_grid_xgb, cv=3, n_jobs=-1, verbose=2)\n",
        "\n",
        "# Train Models\n",
        "pca_search.fit(X_train, y_train)\n",
        "xgb_search.fit(X_train, y_train)"
      ],
      "metadata": {
        "colab": {
          "base_uri": "https://localhost:8080/",
          "height": 435
        },
        "id": "yUmC6wQWtKZn",
        "outputId": "967c4570-cb16-4c99-a12d-667aac6cadfa"
      },
      "execution_count": 10,
      "outputs": [
        {
          "output_type": "stream",
          "name": "stdout",
          "text": [
            "Fitting 3 folds for each of 8 candidates, totalling 24 fits\n",
            "Fitting 3 folds for each of 8 candidates, totalling 24 fits\n"
          ]
        },
        {
          "output_type": "stream",
          "name": "stderr",
          "text": [
            "/usr/local/lib/python3.11/dist-packages/joblib/externals/loky/process_executor.py:752: UserWarning: A worker stopped while some jobs were given to the executor. This can be caused by a too short worker timeout or by a memory leak.\n",
            "  warnings.warn(\n",
            "/usr/local/lib/python3.11/dist-packages/xgboost/core.py:158: UserWarning: [18:51:40] WARNING: /workspace/src/common/error_msg.cc:27: The tree method `gpu_hist` is deprecated since 2.0.0. To use GPU training, set the `device` parameter to CUDA instead.\n",
            "\n",
            "    E.g. tree_method = \"hist\", device = \"cuda\"\n",
            "\n",
            "  warnings.warn(smsg, UserWarning)\n",
            "/usr/local/lib/python3.11/dist-packages/xgboost/core.py:158: UserWarning: [18:51:40] WARNING: /workspace/src/learner.cc:740: \n",
            "Parameters: { \"use_label_encoder\" } are not used.\n",
            "\n",
            "  warnings.warn(smsg, UserWarning)\n"
          ]
        },
        {
          "output_type": "execute_result",
          "data": {
            "text/plain": [
              "GridSearchCV(cv=3,\n",
              "             estimator=Pipeline(steps=[('scaler', StandardScaler()),\n",
              "                                       ('classifier',\n",
              "                                        XGBClassifier(base_score=None,\n",
              "                                                      booster=None,\n",
              "                                                      callbacks=None,\n",
              "                                                      colsample_bylevel=None,\n",
              "                                                      colsample_bynode=None,\n",
              "                                                      colsample_bytree=None,\n",
              "                                                      device=None,\n",
              "                                                      early_stopping_rounds=None,\n",
              "                                                      enable_categorical=False,\n",
              "                                                      eval_metric='mlogloss',\n",
              "                                                      feature_types=None,\n",
              "                                                      gamma=None,\n",
              "                                                      grow_policy=None,\n",
              "                                                      impor...\n",
              "                                                      max_cat_to_onehot=None,\n",
              "                                                      max_delta_step=None,\n",
              "                                                      max_depth=None,\n",
              "                                                      max_leaves=None,\n",
              "                                                      min_child_weight=None,\n",
              "                                                      missing=nan,\n",
              "                                                      monotone_constraints=None,\n",
              "                                                      multi_strategy=None,\n",
              "                                                      n_estimators=None,\n",
              "                                                      n_jobs=None,\n",
              "                                                      num_parallel_tree=None,\n",
              "                                                      random_state=None, ...))]),\n",
              "             n_jobs=-1,\n",
              "             param_grid={'classifier__learning_rate': [0.1, 0.01],\n",
              "                         'classifier__max_depth': [3, 5],\n",
              "                         'classifier__n_estimators': [10, 20]},\n",
              "             verbose=2)"
            ],
            "text/html": [
              "<style>#sk-container-id-1 {\n",
              "  /* Definition of color scheme common for light and dark mode */\n",
              "  --sklearn-color-text: #000;\n",
              "  --sklearn-color-text-muted: #666;\n",
              "  --sklearn-color-line: gray;\n",
              "  /* Definition of color scheme for unfitted estimators */\n",
              "  --sklearn-color-unfitted-level-0: #fff5e6;\n",
              "  --sklearn-color-unfitted-level-1: #f6e4d2;\n",
              "  --sklearn-color-unfitted-level-2: #ffe0b3;\n",
              "  --sklearn-color-unfitted-level-3: chocolate;\n",
              "  /* Definition of color scheme for fitted estimators */\n",
              "  --sklearn-color-fitted-level-0: #f0f8ff;\n",
              "  --sklearn-color-fitted-level-1: #d4ebff;\n",
              "  --sklearn-color-fitted-level-2: #b3dbfd;\n",
              "  --sklearn-color-fitted-level-3: cornflowerblue;\n",
              "\n",
              "  /* Specific color for light theme */\n",
              "  --sklearn-color-text-on-default-background: var(--sg-text-color, var(--theme-code-foreground, var(--jp-content-font-color1, black)));\n",
              "  --sklearn-color-background: var(--sg-background-color, var(--theme-background, var(--jp-layout-color0, white)));\n",
              "  --sklearn-color-border-box: var(--sg-text-color, var(--theme-code-foreground, var(--jp-content-font-color1, black)));\n",
              "  --sklearn-color-icon: #696969;\n",
              "\n",
              "  @media (prefers-color-scheme: dark) {\n",
              "    /* Redefinition of color scheme for dark theme */\n",
              "    --sklearn-color-text-on-default-background: var(--sg-text-color, var(--theme-code-foreground, var(--jp-content-font-color1, white)));\n",
              "    --sklearn-color-background: var(--sg-background-color, var(--theme-background, var(--jp-layout-color0, #111)));\n",
              "    --sklearn-color-border-box: var(--sg-text-color, var(--theme-code-foreground, var(--jp-content-font-color1, white)));\n",
              "    --sklearn-color-icon: #878787;\n",
              "  }\n",
              "}\n",
              "\n",
              "#sk-container-id-1 {\n",
              "  color: var(--sklearn-color-text);\n",
              "}\n",
              "\n",
              "#sk-container-id-1 pre {\n",
              "  padding: 0;\n",
              "}\n",
              "\n",
              "#sk-container-id-1 input.sk-hidden--visually {\n",
              "  border: 0;\n",
              "  clip: rect(1px 1px 1px 1px);\n",
              "  clip: rect(1px, 1px, 1px, 1px);\n",
              "  height: 1px;\n",
              "  margin: -1px;\n",
              "  overflow: hidden;\n",
              "  padding: 0;\n",
              "  position: absolute;\n",
              "  width: 1px;\n",
              "}\n",
              "\n",
              "#sk-container-id-1 div.sk-dashed-wrapped {\n",
              "  border: 1px dashed var(--sklearn-color-line);\n",
              "  margin: 0 0.4em 0.5em 0.4em;\n",
              "  box-sizing: border-box;\n",
              "  padding-bottom: 0.4em;\n",
              "  background-color: var(--sklearn-color-background);\n",
              "}\n",
              "\n",
              "#sk-container-id-1 div.sk-container {\n",
              "  /* jupyter's `normalize.less` sets `[hidden] { display: none; }`\n",
              "     but bootstrap.min.css set `[hidden] { display: none !important; }`\n",
              "     so we also need the `!important` here to be able to override the\n",
              "     default hidden behavior on the sphinx rendered scikit-learn.org.\n",
              "     See: https://github.com/scikit-learn/scikit-learn/issues/21755 */\n",
              "  display: inline-block !important;\n",
              "  position: relative;\n",
              "}\n",
              "\n",
              "#sk-container-id-1 div.sk-text-repr-fallback {\n",
              "  display: none;\n",
              "}\n",
              "\n",
              "div.sk-parallel-item,\n",
              "div.sk-serial,\n",
              "div.sk-item {\n",
              "  /* draw centered vertical line to link estimators */\n",
              "  background-image: linear-gradient(var(--sklearn-color-text-on-default-background), var(--sklearn-color-text-on-default-background));\n",
              "  background-size: 2px 100%;\n",
              "  background-repeat: no-repeat;\n",
              "  background-position: center center;\n",
              "}\n",
              "\n",
              "/* Parallel-specific style estimator block */\n",
              "\n",
              "#sk-container-id-1 div.sk-parallel-item::after {\n",
              "  content: \"\";\n",
              "  width: 100%;\n",
              "  border-bottom: 2px solid var(--sklearn-color-text-on-default-background);\n",
              "  flex-grow: 1;\n",
              "}\n",
              "\n",
              "#sk-container-id-1 div.sk-parallel {\n",
              "  display: flex;\n",
              "  align-items: stretch;\n",
              "  justify-content: center;\n",
              "  background-color: var(--sklearn-color-background);\n",
              "  position: relative;\n",
              "}\n",
              "\n",
              "#sk-container-id-1 div.sk-parallel-item {\n",
              "  display: flex;\n",
              "  flex-direction: column;\n",
              "}\n",
              "\n",
              "#sk-container-id-1 div.sk-parallel-item:first-child::after {\n",
              "  align-self: flex-end;\n",
              "  width: 50%;\n",
              "}\n",
              "\n",
              "#sk-container-id-1 div.sk-parallel-item:last-child::after {\n",
              "  align-self: flex-start;\n",
              "  width: 50%;\n",
              "}\n",
              "\n",
              "#sk-container-id-1 div.sk-parallel-item:only-child::after {\n",
              "  width: 0;\n",
              "}\n",
              "\n",
              "/* Serial-specific style estimator block */\n",
              "\n",
              "#sk-container-id-1 div.sk-serial {\n",
              "  display: flex;\n",
              "  flex-direction: column;\n",
              "  align-items: center;\n",
              "  background-color: var(--sklearn-color-background);\n",
              "  padding-right: 1em;\n",
              "  padding-left: 1em;\n",
              "}\n",
              "\n",
              "\n",
              "/* Toggleable style: style used for estimator/Pipeline/ColumnTransformer box that is\n",
              "clickable and can be expanded/collapsed.\n",
              "- Pipeline and ColumnTransformer use this feature and define the default style\n",
              "- Estimators will overwrite some part of the style using the `sk-estimator` class\n",
              "*/\n",
              "\n",
              "/* Pipeline and ColumnTransformer style (default) */\n",
              "\n",
              "#sk-container-id-1 div.sk-toggleable {\n",
              "  /* Default theme specific background. It is overwritten whether we have a\n",
              "  specific estimator or a Pipeline/ColumnTransformer */\n",
              "  background-color: var(--sklearn-color-background);\n",
              "}\n",
              "\n",
              "/* Toggleable label */\n",
              "#sk-container-id-1 label.sk-toggleable__label {\n",
              "  cursor: pointer;\n",
              "  display: flex;\n",
              "  width: 100%;\n",
              "  margin-bottom: 0;\n",
              "  padding: 0.5em;\n",
              "  box-sizing: border-box;\n",
              "  text-align: center;\n",
              "  align-items: start;\n",
              "  justify-content: space-between;\n",
              "  gap: 0.5em;\n",
              "}\n",
              "\n",
              "#sk-container-id-1 label.sk-toggleable__label .caption {\n",
              "  font-size: 0.6rem;\n",
              "  font-weight: lighter;\n",
              "  color: var(--sklearn-color-text-muted);\n",
              "}\n",
              "\n",
              "#sk-container-id-1 label.sk-toggleable__label-arrow:before {\n",
              "  /* Arrow on the left of the label */\n",
              "  content: \"▸\";\n",
              "  float: left;\n",
              "  margin-right: 0.25em;\n",
              "  color: var(--sklearn-color-icon);\n",
              "}\n",
              "\n",
              "#sk-container-id-1 label.sk-toggleable__label-arrow:hover:before {\n",
              "  color: var(--sklearn-color-text);\n",
              "}\n",
              "\n",
              "/* Toggleable content - dropdown */\n",
              "\n",
              "#sk-container-id-1 div.sk-toggleable__content {\n",
              "  max-height: 0;\n",
              "  max-width: 0;\n",
              "  overflow: hidden;\n",
              "  text-align: left;\n",
              "  /* unfitted */\n",
              "  background-color: var(--sklearn-color-unfitted-level-0);\n",
              "}\n",
              "\n",
              "#sk-container-id-1 div.sk-toggleable__content.fitted {\n",
              "  /* fitted */\n",
              "  background-color: var(--sklearn-color-fitted-level-0);\n",
              "}\n",
              "\n",
              "#sk-container-id-1 div.sk-toggleable__content pre {\n",
              "  margin: 0.2em;\n",
              "  border-radius: 0.25em;\n",
              "  color: var(--sklearn-color-text);\n",
              "  /* unfitted */\n",
              "  background-color: var(--sklearn-color-unfitted-level-0);\n",
              "}\n",
              "\n",
              "#sk-container-id-1 div.sk-toggleable__content.fitted pre {\n",
              "  /* unfitted */\n",
              "  background-color: var(--sklearn-color-fitted-level-0);\n",
              "}\n",
              "\n",
              "#sk-container-id-1 input.sk-toggleable__control:checked~div.sk-toggleable__content {\n",
              "  /* Expand drop-down */\n",
              "  max-height: 200px;\n",
              "  max-width: 100%;\n",
              "  overflow: auto;\n",
              "}\n",
              "\n",
              "#sk-container-id-1 input.sk-toggleable__control:checked~label.sk-toggleable__label-arrow:before {\n",
              "  content: \"▾\";\n",
              "}\n",
              "\n",
              "/* Pipeline/ColumnTransformer-specific style */\n",
              "\n",
              "#sk-container-id-1 div.sk-label input.sk-toggleable__control:checked~label.sk-toggleable__label {\n",
              "  color: var(--sklearn-color-text);\n",
              "  background-color: var(--sklearn-color-unfitted-level-2);\n",
              "}\n",
              "\n",
              "#sk-container-id-1 div.sk-label.fitted input.sk-toggleable__control:checked~label.sk-toggleable__label {\n",
              "  background-color: var(--sklearn-color-fitted-level-2);\n",
              "}\n",
              "\n",
              "/* Estimator-specific style */\n",
              "\n",
              "/* Colorize estimator box */\n",
              "#sk-container-id-1 div.sk-estimator input.sk-toggleable__control:checked~label.sk-toggleable__label {\n",
              "  /* unfitted */\n",
              "  background-color: var(--sklearn-color-unfitted-level-2);\n",
              "}\n",
              "\n",
              "#sk-container-id-1 div.sk-estimator.fitted input.sk-toggleable__control:checked~label.sk-toggleable__label {\n",
              "  /* fitted */\n",
              "  background-color: var(--sklearn-color-fitted-level-2);\n",
              "}\n",
              "\n",
              "#sk-container-id-1 div.sk-label label.sk-toggleable__label,\n",
              "#sk-container-id-1 div.sk-label label {\n",
              "  /* The background is the default theme color */\n",
              "  color: var(--sklearn-color-text-on-default-background);\n",
              "}\n",
              "\n",
              "/* On hover, darken the color of the background */\n",
              "#sk-container-id-1 div.sk-label:hover label.sk-toggleable__label {\n",
              "  color: var(--sklearn-color-text);\n",
              "  background-color: var(--sklearn-color-unfitted-level-2);\n",
              "}\n",
              "\n",
              "/* Label box, darken color on hover, fitted */\n",
              "#sk-container-id-1 div.sk-label.fitted:hover label.sk-toggleable__label.fitted {\n",
              "  color: var(--sklearn-color-text);\n",
              "  background-color: var(--sklearn-color-fitted-level-2);\n",
              "}\n",
              "\n",
              "/* Estimator label */\n",
              "\n",
              "#sk-container-id-1 div.sk-label label {\n",
              "  font-family: monospace;\n",
              "  font-weight: bold;\n",
              "  display: inline-block;\n",
              "  line-height: 1.2em;\n",
              "}\n",
              "\n",
              "#sk-container-id-1 div.sk-label-container {\n",
              "  text-align: center;\n",
              "}\n",
              "\n",
              "/* Estimator-specific */\n",
              "#sk-container-id-1 div.sk-estimator {\n",
              "  font-family: monospace;\n",
              "  border: 1px dotted var(--sklearn-color-border-box);\n",
              "  border-radius: 0.25em;\n",
              "  box-sizing: border-box;\n",
              "  margin-bottom: 0.5em;\n",
              "  /* unfitted */\n",
              "  background-color: var(--sklearn-color-unfitted-level-0);\n",
              "}\n",
              "\n",
              "#sk-container-id-1 div.sk-estimator.fitted {\n",
              "  /* fitted */\n",
              "  background-color: var(--sklearn-color-fitted-level-0);\n",
              "}\n",
              "\n",
              "/* on hover */\n",
              "#sk-container-id-1 div.sk-estimator:hover {\n",
              "  /* unfitted */\n",
              "  background-color: var(--sklearn-color-unfitted-level-2);\n",
              "}\n",
              "\n",
              "#sk-container-id-1 div.sk-estimator.fitted:hover {\n",
              "  /* fitted */\n",
              "  background-color: var(--sklearn-color-fitted-level-2);\n",
              "}\n",
              "\n",
              "/* Specification for estimator info (e.g. \"i\" and \"?\") */\n",
              "\n",
              "/* Common style for \"i\" and \"?\" */\n",
              "\n",
              ".sk-estimator-doc-link,\n",
              "a:link.sk-estimator-doc-link,\n",
              "a:visited.sk-estimator-doc-link {\n",
              "  float: right;\n",
              "  font-size: smaller;\n",
              "  line-height: 1em;\n",
              "  font-family: monospace;\n",
              "  background-color: var(--sklearn-color-background);\n",
              "  border-radius: 1em;\n",
              "  height: 1em;\n",
              "  width: 1em;\n",
              "  text-decoration: none !important;\n",
              "  margin-left: 0.5em;\n",
              "  text-align: center;\n",
              "  /* unfitted */\n",
              "  border: var(--sklearn-color-unfitted-level-1) 1pt solid;\n",
              "  color: var(--sklearn-color-unfitted-level-1);\n",
              "}\n",
              "\n",
              ".sk-estimator-doc-link.fitted,\n",
              "a:link.sk-estimator-doc-link.fitted,\n",
              "a:visited.sk-estimator-doc-link.fitted {\n",
              "  /* fitted */\n",
              "  border: var(--sklearn-color-fitted-level-1) 1pt solid;\n",
              "  color: var(--sklearn-color-fitted-level-1);\n",
              "}\n",
              "\n",
              "/* On hover */\n",
              "div.sk-estimator:hover .sk-estimator-doc-link:hover,\n",
              ".sk-estimator-doc-link:hover,\n",
              "div.sk-label-container:hover .sk-estimator-doc-link:hover,\n",
              ".sk-estimator-doc-link:hover {\n",
              "  /* unfitted */\n",
              "  background-color: var(--sklearn-color-unfitted-level-3);\n",
              "  color: var(--sklearn-color-background);\n",
              "  text-decoration: none;\n",
              "}\n",
              "\n",
              "div.sk-estimator.fitted:hover .sk-estimator-doc-link.fitted:hover,\n",
              ".sk-estimator-doc-link.fitted:hover,\n",
              "div.sk-label-container:hover .sk-estimator-doc-link.fitted:hover,\n",
              ".sk-estimator-doc-link.fitted:hover {\n",
              "  /* fitted */\n",
              "  background-color: var(--sklearn-color-fitted-level-3);\n",
              "  color: var(--sklearn-color-background);\n",
              "  text-decoration: none;\n",
              "}\n",
              "\n",
              "/* Span, style for the box shown on hovering the info icon */\n",
              ".sk-estimator-doc-link span {\n",
              "  display: none;\n",
              "  z-index: 9999;\n",
              "  position: relative;\n",
              "  font-weight: normal;\n",
              "  right: .2ex;\n",
              "  padding: .5ex;\n",
              "  margin: .5ex;\n",
              "  width: min-content;\n",
              "  min-width: 20ex;\n",
              "  max-width: 50ex;\n",
              "  color: var(--sklearn-color-text);\n",
              "  box-shadow: 2pt 2pt 4pt #999;\n",
              "  /* unfitted */\n",
              "  background: var(--sklearn-color-unfitted-level-0);\n",
              "  border: .5pt solid var(--sklearn-color-unfitted-level-3);\n",
              "}\n",
              "\n",
              ".sk-estimator-doc-link.fitted span {\n",
              "  /* fitted */\n",
              "  background: var(--sklearn-color-fitted-level-0);\n",
              "  border: var(--sklearn-color-fitted-level-3);\n",
              "}\n",
              "\n",
              ".sk-estimator-doc-link:hover span {\n",
              "  display: block;\n",
              "}\n",
              "\n",
              "/* \"?\"-specific style due to the `<a>` HTML tag */\n",
              "\n",
              "#sk-container-id-1 a.estimator_doc_link {\n",
              "  float: right;\n",
              "  font-size: 1rem;\n",
              "  line-height: 1em;\n",
              "  font-family: monospace;\n",
              "  background-color: var(--sklearn-color-background);\n",
              "  border-radius: 1rem;\n",
              "  height: 1rem;\n",
              "  width: 1rem;\n",
              "  text-decoration: none;\n",
              "  /* unfitted */\n",
              "  color: var(--sklearn-color-unfitted-level-1);\n",
              "  border: var(--sklearn-color-unfitted-level-1) 1pt solid;\n",
              "}\n",
              "\n",
              "#sk-container-id-1 a.estimator_doc_link.fitted {\n",
              "  /* fitted */\n",
              "  border: var(--sklearn-color-fitted-level-1) 1pt solid;\n",
              "  color: var(--sklearn-color-fitted-level-1);\n",
              "}\n",
              "\n",
              "/* On hover */\n",
              "#sk-container-id-1 a.estimator_doc_link:hover {\n",
              "  /* unfitted */\n",
              "  background-color: var(--sklearn-color-unfitted-level-3);\n",
              "  color: var(--sklearn-color-background);\n",
              "  text-decoration: none;\n",
              "}\n",
              "\n",
              "#sk-container-id-1 a.estimator_doc_link.fitted:hover {\n",
              "  /* fitted */\n",
              "  background-color: var(--sklearn-color-fitted-level-3);\n",
              "}\n",
              "</style><div id=\"sk-container-id-1\" class=\"sk-top-container\"><div class=\"sk-text-repr-fallback\"><pre>GridSearchCV(cv=3,\n",
              "             estimator=Pipeline(steps=[(&#x27;scaler&#x27;, StandardScaler()),\n",
              "                                       (&#x27;classifier&#x27;,\n",
              "                                        XGBClassifier(base_score=None,\n",
              "                                                      booster=None,\n",
              "                                                      callbacks=None,\n",
              "                                                      colsample_bylevel=None,\n",
              "                                                      colsample_bynode=None,\n",
              "                                                      colsample_bytree=None,\n",
              "                                                      device=None,\n",
              "                                                      early_stopping_rounds=None,\n",
              "                                                      enable_categorical=False,\n",
              "                                                      eval_metric=&#x27;mlogloss&#x27;,\n",
              "                                                      feature_types=None,\n",
              "                                                      gamma=None,\n",
              "                                                      grow_policy=None,\n",
              "                                                      impor...\n",
              "                                                      max_cat_to_onehot=None,\n",
              "                                                      max_delta_step=None,\n",
              "                                                      max_depth=None,\n",
              "                                                      max_leaves=None,\n",
              "                                                      min_child_weight=None,\n",
              "                                                      missing=nan,\n",
              "                                                      monotone_constraints=None,\n",
              "                                                      multi_strategy=None,\n",
              "                                                      n_estimators=None,\n",
              "                                                      n_jobs=None,\n",
              "                                                      num_parallel_tree=None,\n",
              "                                                      random_state=None, ...))]),\n",
              "             n_jobs=-1,\n",
              "             param_grid={&#x27;classifier__learning_rate&#x27;: [0.1, 0.01],\n",
              "                         &#x27;classifier__max_depth&#x27;: [3, 5],\n",
              "                         &#x27;classifier__n_estimators&#x27;: [10, 20]},\n",
              "             verbose=2)</pre><b>In a Jupyter environment, please rerun this cell to show the HTML representation or trust the notebook. <br />On GitHub, the HTML representation is unable to render, please try loading this page with nbviewer.org.</b></div><div class=\"sk-container\" hidden><div class=\"sk-item sk-dashed-wrapped\"><div class=\"sk-label-container\"><div class=\"sk-label fitted sk-toggleable\"><input class=\"sk-toggleable__control sk-hidden--visually\" id=\"sk-estimator-id-1\" type=\"checkbox\" ><label for=\"sk-estimator-id-1\" class=\"sk-toggleable__label fitted sk-toggleable__label-arrow\"><div><div>GridSearchCV</div></div><div><a class=\"sk-estimator-doc-link fitted\" rel=\"noreferrer\" target=\"_blank\" href=\"https://scikit-learn.org/1.6/modules/generated/sklearn.model_selection.GridSearchCV.html\">?<span>Documentation for GridSearchCV</span></a><span class=\"sk-estimator-doc-link fitted\">i<span>Fitted</span></span></div></label><div class=\"sk-toggleable__content fitted\"><pre>GridSearchCV(cv=3,\n",
              "             estimator=Pipeline(steps=[(&#x27;scaler&#x27;, StandardScaler()),\n",
              "                                       (&#x27;classifier&#x27;,\n",
              "                                        XGBClassifier(base_score=None,\n",
              "                                                      booster=None,\n",
              "                                                      callbacks=None,\n",
              "                                                      colsample_bylevel=None,\n",
              "                                                      colsample_bynode=None,\n",
              "                                                      colsample_bytree=None,\n",
              "                                                      device=None,\n",
              "                                                      early_stopping_rounds=None,\n",
              "                                                      enable_categorical=False,\n",
              "                                                      eval_metric=&#x27;mlogloss&#x27;,\n",
              "                                                      feature_types=None,\n",
              "                                                      gamma=None,\n",
              "                                                      grow_policy=None,\n",
              "                                                      impor...\n",
              "                                                      max_cat_to_onehot=None,\n",
              "                                                      max_delta_step=None,\n",
              "                                                      max_depth=None,\n",
              "                                                      max_leaves=None,\n",
              "                                                      min_child_weight=None,\n",
              "                                                      missing=nan,\n",
              "                                                      monotone_constraints=None,\n",
              "                                                      multi_strategy=None,\n",
              "                                                      n_estimators=None,\n",
              "                                                      n_jobs=None,\n",
              "                                                      num_parallel_tree=None,\n",
              "                                                      random_state=None, ...))]),\n",
              "             n_jobs=-1,\n",
              "             param_grid={&#x27;classifier__learning_rate&#x27;: [0.1, 0.01],\n",
              "                         &#x27;classifier__max_depth&#x27;: [3, 5],\n",
              "                         &#x27;classifier__n_estimators&#x27;: [10, 20]},\n",
              "             verbose=2)</pre></div> </div></div><div class=\"sk-parallel\"><div class=\"sk-parallel-item\"><div class=\"sk-item\"><div class=\"sk-label-container\"><div class=\"sk-label fitted sk-toggleable\"><input class=\"sk-toggleable__control sk-hidden--visually\" id=\"sk-estimator-id-2\" type=\"checkbox\" ><label for=\"sk-estimator-id-2\" class=\"sk-toggleable__label fitted sk-toggleable__label-arrow\"><div><div>best_estimator_: Pipeline</div></div></label><div class=\"sk-toggleable__content fitted\"><pre>Pipeline(steps=[(&#x27;scaler&#x27;, StandardScaler()),\n",
              "                (&#x27;classifier&#x27;,\n",
              "                 XGBClassifier(base_score=None, booster=None, callbacks=None,\n",
              "                               colsample_bylevel=None, colsample_bynode=None,\n",
              "                               colsample_bytree=None, device=None,\n",
              "                               early_stopping_rounds=None,\n",
              "                               enable_categorical=False, eval_metric=&#x27;mlogloss&#x27;,\n",
              "                               feature_types=None, gamma=None, grow_policy=None,\n",
              "                               importance_type=None,\n",
              "                               interaction_constraints=None, learning_rate=0.1,\n",
              "                               max_bin=None, max_cat_threshold=None,\n",
              "                               max_cat_to_onehot=None, max_delta_step=None,\n",
              "                               max_depth=5, max_leaves=None,\n",
              "                               min_child_weight=None, missing=nan,\n",
              "                               monotone_constraints=None, multi_strategy=None,\n",
              "                               n_estimators=20, n_jobs=None,\n",
              "                               num_parallel_tree=None,\n",
              "                               objective=&#x27;multi:softprob&#x27;, ...))])</pre></div> </div></div><div class=\"sk-serial\"><div class=\"sk-item\"><div class=\"sk-serial\"><div class=\"sk-item\"><div class=\"sk-estimator fitted sk-toggleable\"><input class=\"sk-toggleable__control sk-hidden--visually\" id=\"sk-estimator-id-3\" type=\"checkbox\" ><label for=\"sk-estimator-id-3\" class=\"sk-toggleable__label fitted sk-toggleable__label-arrow\"><div><div>StandardScaler</div></div><div><a class=\"sk-estimator-doc-link fitted\" rel=\"noreferrer\" target=\"_blank\" href=\"https://scikit-learn.org/1.6/modules/generated/sklearn.preprocessing.StandardScaler.html\">?<span>Documentation for StandardScaler</span></a></div></label><div class=\"sk-toggleable__content fitted\"><pre>StandardScaler()</pre></div> </div></div><div class=\"sk-item\"><div class=\"sk-estimator fitted sk-toggleable\"><input class=\"sk-toggleable__control sk-hidden--visually\" id=\"sk-estimator-id-4\" type=\"checkbox\" ><label for=\"sk-estimator-id-4\" class=\"sk-toggleable__label fitted sk-toggleable__label-arrow\"><div><div>XGBClassifier</div></div></label><div class=\"sk-toggleable__content fitted\"><pre>XGBClassifier(base_score=None, booster=None, callbacks=None,\n",
              "              colsample_bylevel=None, colsample_bynode=None,\n",
              "              colsample_bytree=None, device=None, early_stopping_rounds=None,\n",
              "              enable_categorical=False, eval_metric=&#x27;mlogloss&#x27;,\n",
              "              feature_types=None, gamma=None, grow_policy=None,\n",
              "              importance_type=None, interaction_constraints=None,\n",
              "              learning_rate=0.1, max_bin=None, max_cat_threshold=None,\n",
              "              max_cat_to_onehot=None, max_delta_step=None, max_depth=5,\n",
              "              max_leaves=None, min_child_weight=None, missing=nan,\n",
              "              monotone_constraints=None, multi_strategy=None, n_estimators=20,\n",
              "              n_jobs=None, num_parallel_tree=None, objective=&#x27;multi:softprob&#x27;, ...)</pre></div> </div></div></div></div></div></div></div></div></div></div></div>"
            ]
          },
          "metadata": {},
          "execution_count": 10
        }
      ]
    },
    {
      "cell_type": "code",
      "source": [
        "def full_evaluation(model, X_test, y_test):\n",
        "    # ----> 1. APPLY PREPROCESSING TO X_test <----\n",
        "    X_test_preprocessed = X_test.apply(pd.to_numeric, errors='coerce')  # Numerical conversion\n",
        "    X_test_preprocessed = pd.get_dummies(X_test_preprocessed, columns=cat_cols, drop_first=True)  # One-hot encoding\n",
        "    X_test_preprocessed = X_test_preprocessed.fillna(0)  # Fill NaN\n",
        "\n",
        "    y_pred = model.predict(X_test_preprocessed)  # Predict on preprocessed data\n",
        "\n",
        "    # Metrics\n",
        "    print(\"Balanced Accuracy:\", balanced_accuracy_score(y_test, y_pred))\n",
        "    print(classification_report(y_test, y_pred, target_names=le.classes_))\n",
        "\n",
        "    # Confusion Matrix\n",
        "    plt.figure(figsize=(10,7))\n",
        "    sns.heatmap(confusion_matrix(y_test, y_pred),\n",
        "                annot=True, fmt='d', cmap='Blues',\n",
        "                xticklabels=le.classes_, yticklabels=le.classes_)\n",
        "    plt.title('Confusion Matrix')\n",
        "    plt.show()"
      ],
      "metadata": {
        "id": "Mz6JX5IkuJEx"
      },
      "execution_count": 12,
      "outputs": []
    },
    {
      "cell_type": "code",
      "source": [
        "# Get XGBoost Feature Importances\n",
        "importances = xgb_search.best_estimator_.named_steps['classifier'].feature_importances_\n",
        "feature_names = X.columns\n",
        "\n",
        "# Plot Top 20\n",
        "plt.figure(figsize=(12,8))\n",
        "pd.Series(importances, index=feature_names).sort_values(ascending=False)[:20].plot.barh()\n",
        "plt.title('Top 20 Predictive Features')\n",
        "plt.show()"
      ],
      "metadata": {
        "colab": {
          "base_uri": "https://localhost:8080/",
          "height": 678
        },
        "id": "uKNEVD97uTz0",
        "outputId": "80b32db0-c6e3-492d-efba-bfc149e04f5f"
      },
      "execution_count": 13,
      "outputs": [
        {
          "output_type": "stream",
          "name": "stderr",
          "text": [
            "/usr/local/lib/python3.11/dist-packages/xgboost/core.py:158: UserWarning: [18:58:44] WARNING: /workspace/src/common/error_msg.cc:27: The tree method `gpu_hist` is deprecated since 2.0.0. To use GPU training, set the `device` parameter to CUDA instead.\n",
            "\n",
            "    E.g. tree_method = \"hist\", device = \"cuda\"\n",
            "\n",
            "  warnings.warn(smsg, UserWarning)\n"
          ]
        },
        {
          "output_type": "display_data",
          "data": {
            "text/plain": [
              "<Figure size 1200x800 with 1 Axes>"
            ],
            "image/png": "[encoded data removed]"
          },
          "metadata": {}
        }
      ]
    },
    {
      "cell_type": "code",
      "source": [
        "# prompt: check acuracy\n",
        "\n",
        "# Evaluate the best models\n",
        "print(\"PCA + Random Forest:\")\n",
        "full_evaluation(pca_search.best_estimator_, X_test, y_test)\n",
        "\n",
        "print(\"\\nXGBoost:\")\n",
        "full_evaluation(xgb_search.best_estimator_, X_test, y_test)\n"
      ],
      "metadata": {
        "colab": {
          "base_uri": "https://localhost:8080/",
          "height": 1000
        },
        "id": "YWOZUnjfxOcl",
        "outputId": "20e2d730-aa71-455a-9506-24524e7a2e15"
      },
      "execution_count": 14,
      "outputs": [
        {
          "output_type": "stream",
          "name": "stdout",
          "text": [
            "PCA + Random Forest:\n",
            "Balanced Accuracy: 0.7790918516882938\n",
            "              precision    recall  f1-score   support\n",
            "\n",
            " Distinction       0.46      0.63      0.53      5959\n",
            "        Fail       0.77      0.78      0.77     14392\n",
            "        Pass       0.79      0.71      0.75     24192\n",
            "   Withdrawn       1.00      0.99      1.00     20242\n",
            "\n",
            "    accuracy                           0.81     64785\n",
            "   macro avg       0.75      0.78      0.76     64785\n",
            "weighted avg       0.82      0.81      0.81     64785\n",
            "\n"
          ]
        },
        {
          "output_type": "display_data",
          "data": {
            "text/plain": [
              "<Figure size 1000x700 with 2 Axes>"
            ],
            "image/png": "[encoded data removed]"
          },
          "metadata": {}
        },
        {
          "output_type": "stream",
          "name": "stdout",
          "text": [
            "\n",
            "XGBoost:\n"
          ]
        },
        {
          "output_type": "stream",
          "name": "stderr",
          "text": [
            "/usr/local/lib/python3.11/dist-packages/xgboost/core.py:158: UserWarning: [19:00:33] WARNING: /workspace/src/common/error_msg.cc:58: Falling back to prediction using DMatrix due to mismatched devices. This might lead to higher memory usage and slower performance. XGBoost is running on: cuda:0, while the input data is on: cpu.\n",
            "Potential solutions:\n",
            "- Use a data structure that matches the device ordinal in the booster.\n",
            "- Set the device for booster before call to inplace_predict.\n",
            "\n",
            "This warning will only be shown once.\n",
            "\n",
            "  warnings.warn(smsg, UserWarning)\n"
          ]
        },
        {
          "output_type": "stream",
          "name": "stdout",
          "text": [
            "Balanced Accuracy: 0.744238255369769\n",
            "              precision    recall  f1-score   support\n",
            "\n",
            " Distinction       0.34      0.69      0.45      5959\n",
            "        Fail       0.73      0.74      0.73     14392\n",
            "        Pass       0.75      0.55      0.64     24192\n",
            "   Withdrawn       1.00      0.99      1.00     20242\n",
            "\n",
            "    accuracy                           0.74     64785\n",
            "   macro avg       0.70      0.74      0.70     64785\n",
            "weighted avg       0.79      0.74      0.75     64785\n",
            "\n"
          ]
        },
        {
          "output_type": "display_data",
          "data": {
            "text/plain": [
              "<Figure size 1000x700 with 2 Axes>"
            ],
            "image/png": "[encoded data removed]"
          },
          "metadata": {}
        }
      ]
    },
    {
      "cell_type": "code",
      "source": [],
      "metadata": {
        "id": "PeSJOIfAxok4"
      },
      "execution_count": null,
      "outputs": []
    },
    {
      "cell_type": "code",
      "source": [],
      "metadata": {
        "id": "zk5e78u6x6ns"
      },
      "execution_count": null,
      "outputs": []
    },
    {
      "cell_type": "code",
      "source": [],
      "metadata": {
        "id": "ZiiXN_Opx7hJ"
      },
      "execution_count": null,
      "outputs": []
    }
  ]
}